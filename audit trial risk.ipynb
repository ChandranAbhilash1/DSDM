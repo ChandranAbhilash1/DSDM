{
  "cells": [
    {
      "cell_type": "markdown",
      "id": "graphic-dimension",
      "metadata": {
        "papermill": {
          "duration": 0.027457,
          "end_time": "2021-04-14T00:59:32.198563",
          "exception": false,
          "start_time": "2021-04-14T00:59:32.171106",
          "status": "completed"
        },
        "tags": [],
        "id": "graphic-dimension"
      },
      "source": [
        "# Imports"
      ]
    },
    {
      "cell_type": "code",
      "execution_count": 1,
      "id": "ordinary-cement",
      "metadata": {
        "execution": {
          "iopub.execute_input": "2021-04-14T00:59:32.257410Z",
          "iopub.status.busy": "2021-04-14T00:59:32.256814Z",
          "iopub.status.idle": "2021-04-14T00:59:33.279653Z",
          "shell.execute_reply": "2021-04-14T00:59:33.278765Z"
        },
        "papermill": {
          "duration": 1.054956,
          "end_time": "2021-04-14T00:59:33.279833",
          "exception": false,
          "start_time": "2021-04-14T00:59:32.224877",
          "status": "completed"
        },
        "tags": [],
        "id": "ordinary-cement"
      },
      "outputs": [],
      "source": [
        "import pandas as pd\n",
        "import numpy as np\n",
        "import matplotlib.pyplot as plt\n",
        "import seaborn as sns\n",
        "%matplotlib inline  \n"
      ]
    },
    {
      "cell_type": "markdown",
      "id": "taken-determination",
      "metadata": {
        "papermill": {
          "duration": 0.027431,
          "end_time": "2021-04-14T00:59:33.333908",
          "exception": false,
          "start_time": "2021-04-14T00:59:33.306477",
          "status": "completed"
        },
        "tags": [],
        "id": "taken-determination"
      },
      "source": [
        "### load data and analysis"
      ]
    },
    {
      "cell_type": "code",
      "execution_count": 2,
      "id": "proper-bottom",
      "metadata": {
        "execution": {
          "iopub.execute_input": "2021-04-14T00:59:33.393073Z",
          "iopub.status.busy": "2021-04-14T00:59:33.392336Z",
          "iopub.status.idle": "2021-04-14T00:59:33.414654Z",
          "shell.execute_reply": "2021-04-14T00:59:33.414056Z"
        },
        "papermill": {
          "duration": 0.053604,
          "end_time": "2021-04-14T00:59:33.414811",
          "exception": false,
          "start_time": "2021-04-14T00:59:33.361207",
          "status": "completed"
        },
        "tags": [],
        "id": "proper-bottom"
      },
      "outputs": [],
      "source": [
        "df = pd.read_csv('/content/trial.csv')"
      ]
    },
    {
      "cell_type": "code",
      "execution_count": 3,
      "id": "parallel-university",
      "metadata": {
        "execution": {
          "iopub.execute_input": "2021-04-14T00:59:33.480932Z",
          "iopub.status.busy": "2021-04-14T00:59:33.480127Z",
          "iopub.status.idle": "2021-04-14T00:59:33.513128Z",
          "shell.execute_reply": "2021-04-14T00:59:33.513706Z"
        },
        "papermill": {
          "duration": 0.072854,
          "end_time": "2021-04-14T00:59:33.513890",
          "exception": false,
          "start_time": "2021-04-14T00:59:33.441036",
          "status": "completed"
        },
        "tags": [],
        "colab": {
          "base_uri": "https://localhost:8080/",
          "height": 270
        },
        "id": "parallel-university",
        "outputId": "3bd66d6a-748c-46b1-c887-4da5d2f6f082"
      },
      "outputs": [
        {
          "output_type": "execute_result",
          "data": {
            "text/plain": [
              "   Sector_score LOCATION_ID  PARA_A  SCORE_A  PARA_B  SCORE_B  TOTAL  numbers  \\\n",
              "0          3.89          23    4.18        6    2.50        2   6.68      5.0   \n",
              "1          3.89           6    0.00        2    4.83        2   4.83      5.0   \n",
              "2          3.89           6    0.51        2    0.23        2   0.74      5.0   \n",
              "3          3.89           6    0.00        2   10.80        6  10.80      6.0   \n",
              "4          3.89           6    0.00        2    0.08        2   0.08      5.0   \n",
              "\n",
              "   Marks  Money_Value  MONEY_Marks  District  Loss  LOSS_SCORE  History  \\\n",
              "0      2         3.38            2         2     0           2        0   \n",
              "1      2         0.94            2         2     0           2        0   \n",
              "2      2         0.00            2         2     0           2        0   \n",
              "3      6        11.75            6         2     0           2        0   \n",
              "4      2         0.00            2         2     0           2        0   \n",
              "\n",
              "   History_score  Score  Risk  \n",
              "0              2    2.4     1  \n",
              "1              2    2.0     0  \n",
              "2              2    2.0     0  \n",
              "3              2    4.4     1  \n",
              "4              2    2.0     0  "
            ],
            "text/html": [
              "\n",
              "  <div id=\"df-bd3e192b-ad71-43a5-80c5-dced94d5c178\">\n",
              "    <div class=\"colab-df-container\">\n",
              "      <div>\n",
              "<style scoped>\n",
              "    .dataframe tbody tr th:only-of-type {\n",
              "        vertical-align: middle;\n",
              "    }\n",
              "\n",
              "    .dataframe tbody tr th {\n",
              "        vertical-align: top;\n",
              "    }\n",
              "\n",
              "    .dataframe thead th {\n",
              "        text-align: right;\n",
              "    }\n",
              "</style>\n",
              "<table border=\"1\" class=\"dataframe\">\n",
              "  <thead>\n",
              "    <tr style=\"text-align: right;\">\n",
              "      <th></th>\n",
              "      <th>Sector_score</th>\n",
              "      <th>LOCATION_ID</th>\n",
              "      <th>PARA_A</th>\n",
              "      <th>SCORE_A</th>\n",
              "      <th>PARA_B</th>\n",
              "      <th>SCORE_B</th>\n",
              "      <th>TOTAL</th>\n",
              "      <th>numbers</th>\n",
              "      <th>Marks</th>\n",
              "      <th>Money_Value</th>\n",
              "      <th>MONEY_Marks</th>\n",
              "      <th>District</th>\n",
              "      <th>Loss</th>\n",
              "      <th>LOSS_SCORE</th>\n",
              "      <th>History</th>\n",
              "      <th>History_score</th>\n",
              "      <th>Score</th>\n",
              "      <th>Risk</th>\n",
              "    </tr>\n",
              "  </thead>\n",
              "  <tbody>\n",
              "    <tr>\n",
              "      <th>0</th>\n",
              "      <td>3.89</td>\n",
              "      <td>23</td>\n",
              "      <td>4.18</td>\n",
              "      <td>6</td>\n",
              "      <td>2.50</td>\n",
              "      <td>2</td>\n",
              "      <td>6.68</td>\n",
              "      <td>5.0</td>\n",
              "      <td>2</td>\n",
              "      <td>3.38</td>\n",
              "      <td>2</td>\n",
              "      <td>2</td>\n",
              "      <td>0</td>\n",
              "      <td>2</td>\n",
              "      <td>0</td>\n",
              "      <td>2</td>\n",
              "      <td>2.4</td>\n",
              "      <td>1</td>\n",
              "    </tr>\n",
              "    <tr>\n",
              "      <th>1</th>\n",
              "      <td>3.89</td>\n",
              "      <td>6</td>\n",
              "      <td>0.00</td>\n",
              "      <td>2</td>\n",
              "      <td>4.83</td>\n",
              "      <td>2</td>\n",
              "      <td>4.83</td>\n",
              "      <td>5.0</td>\n",
              "      <td>2</td>\n",
              "      <td>0.94</td>\n",
              "      <td>2</td>\n",
              "      <td>2</td>\n",
              "      <td>0</td>\n",
              "      <td>2</td>\n",
              "      <td>0</td>\n",
              "      <td>2</td>\n",
              "      <td>2.0</td>\n",
              "      <td>0</td>\n",
              "    </tr>\n",
              "    <tr>\n",
              "      <th>2</th>\n",
              "      <td>3.89</td>\n",
              "      <td>6</td>\n",
              "      <td>0.51</td>\n",
              "      <td>2</td>\n",
              "      <td>0.23</td>\n",
              "      <td>2</td>\n",
              "      <td>0.74</td>\n",
              "      <td>5.0</td>\n",
              "      <td>2</td>\n",
              "      <td>0.00</td>\n",
              "      <td>2</td>\n",
              "      <td>2</td>\n",
              "      <td>0</td>\n",
              "      <td>2</td>\n",
              "      <td>0</td>\n",
              "      <td>2</td>\n",
              "      <td>2.0</td>\n",
              "      <td>0</td>\n",
              "    </tr>\n",
              "    <tr>\n",
              "      <th>3</th>\n",
              "      <td>3.89</td>\n",
              "      <td>6</td>\n",
              "      <td>0.00</td>\n",
              "      <td>2</td>\n",
              "      <td>10.80</td>\n",
              "      <td>6</td>\n",
              "      <td>10.80</td>\n",
              "      <td>6.0</td>\n",
              "      <td>6</td>\n",
              "      <td>11.75</td>\n",
              "      <td>6</td>\n",
              "      <td>2</td>\n",
              "      <td>0</td>\n",
              "      <td>2</td>\n",
              "      <td>0</td>\n",
              "      <td>2</td>\n",
              "      <td>4.4</td>\n",
              "      <td>1</td>\n",
              "    </tr>\n",
              "    <tr>\n",
              "      <th>4</th>\n",
              "      <td>3.89</td>\n",
              "      <td>6</td>\n",
              "      <td>0.00</td>\n",
              "      <td>2</td>\n",
              "      <td>0.08</td>\n",
              "      <td>2</td>\n",
              "      <td>0.08</td>\n",
              "      <td>5.0</td>\n",
              "      <td>2</td>\n",
              "      <td>0.00</td>\n",
              "      <td>2</td>\n",
              "      <td>2</td>\n",
              "      <td>0</td>\n",
              "      <td>2</td>\n",
              "      <td>0</td>\n",
              "      <td>2</td>\n",
              "      <td>2.0</td>\n",
              "      <td>0</td>\n",
              "    </tr>\n",
              "  </tbody>\n",
              "</table>\n",
              "</div>\n",
              "      <button class=\"colab-df-convert\" onclick=\"convertToInteractive('df-bd3e192b-ad71-43a5-80c5-dced94d5c178')\"\n",
              "              title=\"Convert this dataframe to an interactive table.\"\n",
              "              style=\"display:none;\">\n",
              "        \n",
              "  <svg xmlns=\"http://www.w3.org/2000/svg\" height=\"24px\"viewBox=\"0 0 24 24\"\n",
              "       width=\"24px\">\n",
              "    <path d=\"M0 0h24v24H0V0z\" fill=\"none\"/>\n",
              "    <path d=\"M18.56 5.44l.94 2.06.94-2.06 2.06-.94-2.06-.94-.94-2.06-.94 2.06-2.06.94zm-11 1L8.5 8.5l.94-2.06 2.06-.94-2.06-.94L8.5 2.5l-.94 2.06-2.06.94zm10 10l.94 2.06.94-2.06 2.06-.94-2.06-.94-.94-2.06-.94 2.06-2.06.94z\"/><path d=\"M17.41 7.96l-1.37-1.37c-.4-.4-.92-.59-1.43-.59-.52 0-1.04.2-1.43.59L10.3 9.45l-7.72 7.72c-.78.78-.78 2.05 0 2.83L4 21.41c.39.39.9.59 1.41.59.51 0 1.02-.2 1.41-.59l7.78-7.78 2.81-2.81c.8-.78.8-2.07 0-2.86zM5.41 20L4 18.59l7.72-7.72 1.47 1.35L5.41 20z\"/>\n",
              "  </svg>\n",
              "      </button>\n",
              "      \n",
              "  <style>\n",
              "    .colab-df-container {\n",
              "      display:flex;\n",
              "      flex-wrap:wrap;\n",
              "      gap: 12px;\n",
              "    }\n",
              "\n",
              "    .colab-df-convert {\n",
              "      background-color: #E8F0FE;\n",
              "      border: none;\n",
              "      border-radius: 50%;\n",
              "      cursor: pointer;\n",
              "      display: none;\n",
              "      fill: #1967D2;\n",
              "      height: 32px;\n",
              "      padding: 0 0 0 0;\n",
              "      width: 32px;\n",
              "    }\n",
              "\n",
              "    .colab-df-convert:hover {\n",
              "      background-color: #E2EBFA;\n",
              "      box-shadow: 0px 1px 2px rgba(60, 64, 67, 0.3), 0px 1px 3px 1px rgba(60, 64, 67, 0.15);\n",
              "      fill: #174EA6;\n",
              "    }\n",
              "\n",
              "    [theme=dark] .colab-df-convert {\n",
              "      background-color: #3B4455;\n",
              "      fill: #D2E3FC;\n",
              "    }\n",
              "\n",
              "    [theme=dark] .colab-df-convert:hover {\n",
              "      background-color: #434B5C;\n",
              "      box-shadow: 0px 1px 3px 1px rgba(0, 0, 0, 0.15);\n",
              "      filter: drop-shadow(0px 1px 2px rgba(0, 0, 0, 0.3));\n",
              "      fill: #FFFFFF;\n",
              "    }\n",
              "  </style>\n",
              "\n",
              "      <script>\n",
              "        const buttonEl =\n",
              "          document.querySelector('#df-bd3e192b-ad71-43a5-80c5-dced94d5c178 button.colab-df-convert');\n",
              "        buttonEl.style.display =\n",
              "          google.colab.kernel.accessAllowed ? 'block' : 'none';\n",
              "\n",
              "        async function convertToInteractive(key) {\n",
              "          const element = document.querySelector('#df-bd3e192b-ad71-43a5-80c5-dced94d5c178');\n",
              "          const dataTable =\n",
              "            await google.colab.kernel.invokeFunction('convertToInteractive',\n",
              "                                                     [key], {});\n",
              "          if (!dataTable) return;\n",
              "\n",
              "          const docLinkHtml = 'Like what you see? Visit the ' +\n",
              "            '<a target=\"_blank\" href=https://colab.research.google.com/notebooks/data_table.ipynb>data table notebook</a>'\n",
              "            + ' to learn more about interactive tables.';\n",
              "          element.innerHTML = '';\n",
              "          dataTable['output_type'] = 'display_data';\n",
              "          await google.colab.output.renderOutput(dataTable, element);\n",
              "          const docLink = document.createElement('div');\n",
              "          docLink.innerHTML = docLinkHtml;\n",
              "          element.appendChild(docLink);\n",
              "        }\n",
              "      </script>\n",
              "    </div>\n",
              "  </div>\n",
              "  "
            ]
          },
          "metadata": {},
          "execution_count": 3
        }
      ],
      "source": [
        "df.head()"
      ]
    },
    {
      "cell_type": "code",
      "execution_count": 4,
      "id": "future-jones",
      "metadata": {
        "execution": {
          "iopub.execute_input": "2021-04-14T00:59:33.577689Z",
          "iopub.status.busy": "2021-04-14T00:59:33.576997Z",
          "iopub.status.idle": "2021-04-14T00:59:33.640694Z",
          "shell.execute_reply": "2021-04-14T00:59:33.640091Z"
        },
        "papermill": {
          "duration": 0.09588,
          "end_time": "2021-04-14T00:59:33.640855",
          "exception": false,
          "start_time": "2021-04-14T00:59:33.544975",
          "status": "completed"
        },
        "tags": [],
        "colab": {
          "base_uri": "https://localhost:8080/",
          "height": 364
        },
        "id": "future-jones",
        "outputId": "c47e16f1-5419-4b0c-f7dd-f10b6dfcf749"
      },
      "outputs": [
        {
          "output_type": "execute_result",
          "data": {
            "text/plain": [
              "       Sector_score      PARA_A     SCORE_A       PARA_B     SCORE_B  \\\n",
              "count    776.000000  776.000000  776.000000   776.000000  776.000000   \n",
              "mean      20.184536    2.450194    3.512887    10.799988    3.131443   \n",
              "std       24.319017    5.678870    1.740549    50.083624    1.698042   \n",
              "min        1.850000    0.000000    2.000000     0.000000    2.000000   \n",
              "25%        2.370000    0.210000    2.000000     0.000000    2.000000   \n",
              "50%        3.890000    0.875000    2.000000     0.405000    2.000000   \n",
              "75%       55.570000    2.480000    6.000000     4.160000    4.000000   \n",
              "max       59.850000   85.000000    6.000000  1264.630000    6.000000   \n",
              "\n",
              "             TOTAL     numbers       Marks  Money_Value  MONEY_Marks  \\\n",
              "count   776.000000  776.000000  776.000000   775.000000   776.000000   \n",
              "mean     13.218481    5.067655    2.237113    14.137631     2.909794   \n",
              "std      51.312829    0.264449    0.803517    66.606519     1.597452   \n",
              "min       0.000000    5.000000    2.000000     0.000000     2.000000   \n",
              "25%       0.537500    5.000000    2.000000     0.000000     2.000000   \n",
              "50%       1.370000    5.000000    2.000000     0.090000     2.000000   \n",
              "75%       7.707500    5.000000    2.000000     5.595000     4.000000   \n",
              "max    1268.910000    9.000000    6.000000   935.030000     6.000000   \n",
              "\n",
              "         District        Loss  LOSS_SCORE     History  History_score  \\\n",
              "count  776.000000  776.000000  776.000000  776.000000     776.000000   \n",
              "mean     2.505155    0.029639    2.061856    0.104381       2.167526   \n",
              "std      1.228678    0.184280    0.375080    0.531031       0.679869   \n",
              "min      2.000000    0.000000    2.000000    0.000000       2.000000   \n",
              "25%      2.000000    0.000000    2.000000    0.000000       2.000000   \n",
              "50%      2.000000    0.000000    2.000000    0.000000       2.000000   \n",
              "75%      2.000000    0.000000    2.000000    0.000000       2.000000   \n",
              "max      6.000000    2.000000    6.000000    9.000000       6.000000   \n",
              "\n",
              "            Score        Risk  \n",
              "count  776.000000  776.000000  \n",
              "mean     2.702577    0.626289  \n",
              "std      0.858923    0.484100  \n",
              "min      2.000000    0.000000  \n",
              "25%      2.000000    0.000000  \n",
              "50%      2.400000    1.000000  \n",
              "75%      3.250000    1.000000  \n",
              "max      5.200000    1.000000  "
            ],
            "text/html": [
              "\n",
              "  <div id=\"df-c3eaebd6-2b75-4f9a-819e-ac815dbcd4c7\">\n",
              "    <div class=\"colab-df-container\">\n",
              "      <div>\n",
              "<style scoped>\n",
              "    .dataframe tbody tr th:only-of-type {\n",
              "        vertical-align: middle;\n",
              "    }\n",
              "\n",
              "    .dataframe tbody tr th {\n",
              "        vertical-align: top;\n",
              "    }\n",
              "\n",
              "    .dataframe thead th {\n",
              "        text-align: right;\n",
              "    }\n",
              "</style>\n",
              "<table border=\"1\" class=\"dataframe\">\n",
              "  <thead>\n",
              "    <tr style=\"text-align: right;\">\n",
              "      <th></th>\n",
              "      <th>Sector_score</th>\n",
              "      <th>PARA_A</th>\n",
              "      <th>SCORE_A</th>\n",
              "      <th>PARA_B</th>\n",
              "      <th>SCORE_B</th>\n",
              "      <th>TOTAL</th>\n",
              "      <th>numbers</th>\n",
              "      <th>Marks</th>\n",
              "      <th>Money_Value</th>\n",
              "      <th>MONEY_Marks</th>\n",
              "      <th>District</th>\n",
              "      <th>Loss</th>\n",
              "      <th>LOSS_SCORE</th>\n",
              "      <th>History</th>\n",
              "      <th>History_score</th>\n",
              "      <th>Score</th>\n",
              "      <th>Risk</th>\n",
              "    </tr>\n",
              "  </thead>\n",
              "  <tbody>\n",
              "    <tr>\n",
              "      <th>count</th>\n",
              "      <td>776.000000</td>\n",
              "      <td>776.000000</td>\n",
              "      <td>776.000000</td>\n",
              "      <td>776.000000</td>\n",
              "      <td>776.000000</td>\n",
              "      <td>776.000000</td>\n",
              "      <td>776.000000</td>\n",
              "      <td>776.000000</td>\n",
              "      <td>775.000000</td>\n",
              "      <td>776.000000</td>\n",
              "      <td>776.000000</td>\n",
              "      <td>776.000000</td>\n",
              "      <td>776.000000</td>\n",
              "      <td>776.000000</td>\n",
              "      <td>776.000000</td>\n",
              "      <td>776.000000</td>\n",
              "      <td>776.000000</td>\n",
              "    </tr>\n",
              "    <tr>\n",
              "      <th>mean</th>\n",
              "      <td>20.184536</td>\n",
              "      <td>2.450194</td>\n",
              "      <td>3.512887</td>\n",
              "      <td>10.799988</td>\n",
              "      <td>3.131443</td>\n",
              "      <td>13.218481</td>\n",
              "      <td>5.067655</td>\n",
              "      <td>2.237113</td>\n",
              "      <td>14.137631</td>\n",
              "      <td>2.909794</td>\n",
              "      <td>2.505155</td>\n",
              "      <td>0.029639</td>\n",
              "      <td>2.061856</td>\n",
              "      <td>0.104381</td>\n",
              "      <td>2.167526</td>\n",
              "      <td>2.702577</td>\n",
              "      <td>0.626289</td>\n",
              "    </tr>\n",
              "    <tr>\n",
              "      <th>std</th>\n",
              "      <td>24.319017</td>\n",
              "      <td>5.678870</td>\n",
              "      <td>1.740549</td>\n",
              "      <td>50.083624</td>\n",
              "      <td>1.698042</td>\n",
              "      <td>51.312829</td>\n",
              "      <td>0.264449</td>\n",
              "      <td>0.803517</td>\n",
              "      <td>66.606519</td>\n",
              "      <td>1.597452</td>\n",
              "      <td>1.228678</td>\n",
              "      <td>0.184280</td>\n",
              "      <td>0.375080</td>\n",
              "      <td>0.531031</td>\n",
              "      <td>0.679869</td>\n",
              "      <td>0.858923</td>\n",
              "      <td>0.484100</td>\n",
              "    </tr>\n",
              "    <tr>\n",
              "      <th>min</th>\n",
              "      <td>1.850000</td>\n",
              "      <td>0.000000</td>\n",
              "      <td>2.000000</td>\n",
              "      <td>0.000000</td>\n",
              "      <td>2.000000</td>\n",
              "      <td>0.000000</td>\n",
              "      <td>5.000000</td>\n",
              "      <td>2.000000</td>\n",
              "      <td>0.000000</td>\n",
              "      <td>2.000000</td>\n",
              "      <td>2.000000</td>\n",
              "      <td>0.000000</td>\n",
              "      <td>2.000000</td>\n",
              "      <td>0.000000</td>\n",
              "      <td>2.000000</td>\n",
              "      <td>2.000000</td>\n",
              "      <td>0.000000</td>\n",
              "    </tr>\n",
              "    <tr>\n",
              "      <th>25%</th>\n",
              "      <td>2.370000</td>\n",
              "      <td>0.210000</td>\n",
              "      <td>2.000000</td>\n",
              "      <td>0.000000</td>\n",
              "      <td>2.000000</td>\n",
              "      <td>0.537500</td>\n",
              "      <td>5.000000</td>\n",
              "      <td>2.000000</td>\n",
              "      <td>0.000000</td>\n",
              "      <td>2.000000</td>\n",
              "      <td>2.000000</td>\n",
              "      <td>0.000000</td>\n",
              "      <td>2.000000</td>\n",
              "      <td>0.000000</td>\n",
              "      <td>2.000000</td>\n",
              "      <td>2.000000</td>\n",
              "      <td>0.000000</td>\n",
              "    </tr>\n",
              "    <tr>\n",
              "      <th>50%</th>\n",
              "      <td>3.890000</td>\n",
              "      <td>0.875000</td>\n",
              "      <td>2.000000</td>\n",
              "      <td>0.405000</td>\n",
              "      <td>2.000000</td>\n",
              "      <td>1.370000</td>\n",
              "      <td>5.000000</td>\n",
              "      <td>2.000000</td>\n",
              "      <td>0.090000</td>\n",
              "      <td>2.000000</td>\n",
              "      <td>2.000000</td>\n",
              "      <td>0.000000</td>\n",
              "      <td>2.000000</td>\n",
              "      <td>0.000000</td>\n",
              "      <td>2.000000</td>\n",
              "      <td>2.400000</td>\n",
              "      <td>1.000000</td>\n",
              "    </tr>\n",
              "    <tr>\n",
              "      <th>75%</th>\n",
              "      <td>55.570000</td>\n",
              "      <td>2.480000</td>\n",
              "      <td>6.000000</td>\n",
              "      <td>4.160000</td>\n",
              "      <td>4.000000</td>\n",
              "      <td>7.707500</td>\n",
              "      <td>5.000000</td>\n",
              "      <td>2.000000</td>\n",
              "      <td>5.595000</td>\n",
              "      <td>4.000000</td>\n",
              "      <td>2.000000</td>\n",
              "      <td>0.000000</td>\n",
              "      <td>2.000000</td>\n",
              "      <td>0.000000</td>\n",
              "      <td>2.000000</td>\n",
              "      <td>3.250000</td>\n",
              "      <td>1.000000</td>\n",
              "    </tr>\n",
              "    <tr>\n",
              "      <th>max</th>\n",
              "      <td>59.850000</td>\n",
              "      <td>85.000000</td>\n",
              "      <td>6.000000</td>\n",
              "      <td>1264.630000</td>\n",
              "      <td>6.000000</td>\n",
              "      <td>1268.910000</td>\n",
              "      <td>9.000000</td>\n",
              "      <td>6.000000</td>\n",
              "      <td>935.030000</td>\n",
              "      <td>6.000000</td>\n",
              "      <td>6.000000</td>\n",
              "      <td>2.000000</td>\n",
              "      <td>6.000000</td>\n",
              "      <td>9.000000</td>\n",
              "      <td>6.000000</td>\n",
              "      <td>5.200000</td>\n",
              "      <td>1.000000</td>\n",
              "    </tr>\n",
              "  </tbody>\n",
              "</table>\n",
              "</div>\n",
              "      <button class=\"colab-df-convert\" onclick=\"convertToInteractive('df-c3eaebd6-2b75-4f9a-819e-ac815dbcd4c7')\"\n",
              "              title=\"Convert this dataframe to an interactive table.\"\n",
              "              style=\"display:none;\">\n",
              "        \n",
              "  <svg xmlns=\"http://www.w3.org/2000/svg\" height=\"24px\"viewBox=\"0 0 24 24\"\n",
              "       width=\"24px\">\n",
              "    <path d=\"M0 0h24v24H0V0z\" fill=\"none\"/>\n",
              "    <path d=\"M18.56 5.44l.94 2.06.94-2.06 2.06-.94-2.06-.94-.94-2.06-.94 2.06-2.06.94zm-11 1L8.5 8.5l.94-2.06 2.06-.94-2.06-.94L8.5 2.5l-.94 2.06-2.06.94zm10 10l.94 2.06.94-2.06 2.06-.94-2.06-.94-.94-2.06-.94 2.06-2.06.94z\"/><path d=\"M17.41 7.96l-1.37-1.37c-.4-.4-.92-.59-1.43-.59-.52 0-1.04.2-1.43.59L10.3 9.45l-7.72 7.72c-.78.78-.78 2.05 0 2.83L4 21.41c.39.39.9.59 1.41.59.51 0 1.02-.2 1.41-.59l7.78-7.78 2.81-2.81c.8-.78.8-2.07 0-2.86zM5.41 20L4 18.59l7.72-7.72 1.47 1.35L5.41 20z\"/>\n",
              "  </svg>\n",
              "      </button>\n",
              "      \n",
              "  <style>\n",
              "    .colab-df-container {\n",
              "      display:flex;\n",
              "      flex-wrap:wrap;\n",
              "      gap: 12px;\n",
              "    }\n",
              "\n",
              "    .colab-df-convert {\n",
              "      background-color: #E8F0FE;\n",
              "      border: none;\n",
              "      border-radius: 50%;\n",
              "      cursor: pointer;\n",
              "      display: none;\n",
              "      fill: #1967D2;\n",
              "      height: 32px;\n",
              "      padding: 0 0 0 0;\n",
              "      width: 32px;\n",
              "    }\n",
              "\n",
              "    .colab-df-convert:hover {\n",
              "      background-color: #E2EBFA;\n",
              "      box-shadow: 0px 1px 2px rgba(60, 64, 67, 0.3), 0px 1px 3px 1px rgba(60, 64, 67, 0.15);\n",
              "      fill: #174EA6;\n",
              "    }\n",
              "\n",
              "    [theme=dark] .colab-df-convert {\n",
              "      background-color: #3B4455;\n",
              "      fill: #D2E3FC;\n",
              "    }\n",
              "\n",
              "    [theme=dark] .colab-df-convert:hover {\n",
              "      background-color: #434B5C;\n",
              "      box-shadow: 0px 1px 3px 1px rgba(0, 0, 0, 0.15);\n",
              "      filter: drop-shadow(0px 1px 2px rgba(0, 0, 0, 0.3));\n",
              "      fill: #FFFFFF;\n",
              "    }\n",
              "  </style>\n",
              "\n",
              "      <script>\n",
              "        const buttonEl =\n",
              "          document.querySelector('#df-c3eaebd6-2b75-4f9a-819e-ac815dbcd4c7 button.colab-df-convert');\n",
              "        buttonEl.style.display =\n",
              "          google.colab.kernel.accessAllowed ? 'block' : 'none';\n",
              "\n",
              "        async function convertToInteractive(key) {\n",
              "          const element = document.querySelector('#df-c3eaebd6-2b75-4f9a-819e-ac815dbcd4c7');\n",
              "          const dataTable =\n",
              "            await google.colab.kernel.invokeFunction('convertToInteractive',\n",
              "                                                     [key], {});\n",
              "          if (!dataTable) return;\n",
              "\n",
              "          const docLinkHtml = 'Like what you see? Visit the ' +\n",
              "            '<a target=\"_blank\" href=https://colab.research.google.com/notebooks/data_table.ipynb>data table notebook</a>'\n",
              "            + ' to learn more about interactive tables.';\n",
              "          element.innerHTML = '';\n",
              "          dataTable['output_type'] = 'display_data';\n",
              "          await google.colab.output.renderOutput(dataTable, element);\n",
              "          const docLink = document.createElement('div');\n",
              "          docLink.innerHTML = docLinkHtml;\n",
              "          element.appendChild(docLink);\n",
              "        }\n",
              "      </script>\n",
              "    </div>\n",
              "  </div>\n",
              "  "
            ]
          },
          "metadata": {},
          "execution_count": 4
        }
      ],
      "source": [
        "df. describe()"
      ]
    },
    {
      "cell_type": "code",
      "execution_count": 5,
      "id": "delayed-transition",
      "metadata": {
        "execution": {
          "iopub.execute_input": "2021-04-14T00:59:33.703684Z",
          "iopub.status.busy": "2021-04-14T00:59:33.702950Z",
          "iopub.status.idle": "2021-04-14T00:59:33.724346Z",
          "shell.execute_reply": "2021-04-14T00:59:33.723580Z"
        },
        "papermill": {
          "duration": 0.055695,
          "end_time": "2021-04-14T00:59:33.724542",
          "exception": false,
          "start_time": "2021-04-14T00:59:33.668847",
          "status": "completed"
        },
        "tags": [],
        "colab": {
          "base_uri": "https://localhost:8080/"
        },
        "id": "delayed-transition",
        "outputId": "b654f090-a3e2-4ee2-f3df-d922d223de00"
      },
      "outputs": [
        {
          "output_type": "stream",
          "name": "stdout",
          "text": [
            "<class 'pandas.core.frame.DataFrame'>\n",
            "RangeIndex: 776 entries, 0 to 775\n",
            "Data columns (total 18 columns):\n",
            " #   Column         Non-Null Count  Dtype  \n",
            "---  ------         --------------  -----  \n",
            " 0   Sector_score   776 non-null    float64\n",
            " 1   LOCATION_ID    776 non-null    object \n",
            " 2   PARA_A         776 non-null    float64\n",
            " 3   SCORE_A        776 non-null    int64  \n",
            " 4   PARA_B         776 non-null    float64\n",
            " 5   SCORE_B        776 non-null    int64  \n",
            " 6   TOTAL          776 non-null    float64\n",
            " 7   numbers        776 non-null    float64\n",
            " 8   Marks          776 non-null    int64  \n",
            " 9   Money_Value    775 non-null    float64\n",
            " 10  MONEY_Marks    776 non-null    int64  \n",
            " 11  District       776 non-null    int64  \n",
            " 12  Loss           776 non-null    int64  \n",
            " 13  LOSS_SCORE     776 non-null    int64  \n",
            " 14  History        776 non-null    int64  \n",
            " 15  History_score  776 non-null    int64  \n",
            " 16  Score          776 non-null    float64\n",
            " 17  Risk           776 non-null    int64  \n",
            "dtypes: float64(7), int64(10), object(1)\n",
            "memory usage: 109.2+ KB\n"
          ]
        }
      ],
      "source": [
        "df.info()"
      ]
    },
    {
      "cell_type": "code",
      "execution_count": 7,
      "id": "automatic-underground",
      "metadata": {
        "execution": {
          "iopub.execute_input": "2021-04-14T00:59:33.787267Z",
          "iopub.status.busy": "2021-04-14T00:59:33.786473Z",
          "iopub.status.idle": "2021-04-14T00:59:36.653319Z",
          "shell.execute_reply": "2021-04-14T00:59:36.652366Z"
        },
        "papermill": {
          "duration": 2.899797,
          "end_time": "2021-04-14T00:59:36.653494",
          "exception": false,
          "start_time": "2021-04-14T00:59:33.753697",
          "status": "completed"
        },
        "tags": [],
        "colab": {
          "base_uri": "https://localhost:8080/",
          "height": 1000
        },
        "id": "automatic-underground",
        "outputId": "23e2f8a1-6409-4c4c-fd9c-78a1335ff229"
      },
      "outputs": [
        {
          "output_type": "display_data",
          "data": {
            "text/plain": [
              "<Figure size 1152x2160 with 20 Axes>"
            ],
            "image/png": "[encoded data removed]"
          },
          "metadata": {
            "needs_background": "light"
          }
        }
      ],
      "source": [
        "df.hist(figsize= (16, 30));"
      ]
    },
    {
      "cell_type": "code",
      "execution_count": 8,
      "id": "swiss-evanescence",
      "metadata": {
        "execution": {
          "iopub.execute_input": "2021-04-14T00:59:36.735533Z",
          "iopub.status.busy": "2021-04-14T00:59:36.734446Z",
          "iopub.status.idle": "2021-04-14T00:59:38.222406Z",
          "shell.execute_reply": "2021-04-14T00:59:38.222940Z"
        },
        "papermill": {
          "duration": 1.53027,
          "end_time": "2021-04-14T00:59:38.223130",
          "exception": false,
          "start_time": "2021-04-14T00:59:36.692860",
          "status": "completed"
        },
        "scrolled": true,
        "tags": [],
        "colab": {
          "base_uri": "https://localhost:8080/",
          "height": 765
        },
        "id": "swiss-evanescence",
        "outputId": "7ce1cb0d-74ae-4487-8487-c84360d7717a"
      },
      "outputs": [
        {
          "output_type": "display_data",
          "data": {
            "text/plain": [
              "<Figure size 864x864 with 2 Axes>"
            ],
            "image/png": "[encoded data removed]"
          },
          "metadata": {
            "needs_background": "light"
          }
        }
      ],
      "source": [
        "corr_mat = df.corr()\n",
        "fig, ax = plt.subplots(figsize=(12, 12))\n",
        "sns.heatmap(corr_mat, annot=True, ax=ax,\n",
        "            fmt='.1g', cmap='coolwarm', linewidths=.5,\n",
        "            vmin=-0.6, vmax=1, center= 0)\n",
        "plt.show()"
      ]
    },
    {
      "cell_type": "code",
      "execution_count": 9,
      "id": "swiss-decision",
      "metadata": {
        "execution": {
          "iopub.execute_input": "2021-04-14T00:59:38.342941Z",
          "iopub.status.busy": "2021-04-14T00:59:38.342136Z",
          "iopub.status.idle": "2021-04-14T00:59:38.684592Z",
          "shell.execute_reply": "2021-04-14T00:59:38.683315Z"
        },
        "papermill": {
          "duration": 0.424705,
          "end_time": "2021-04-14T00:59:38.684769",
          "exception": false,
          "start_time": "2021-04-14T00:59:38.260064",
          "status": "completed"
        },
        "tags": [],
        "colab": {
          "base_uri": "https://localhost:8080/",
          "height": 297
        },
        "id": "swiss-decision",
        "outputId": "c331a29f-2b2a-46a4-83ef-f82dc3c8f499"
      },
      "outputs": [
        {
          "output_type": "execute_result",
          "data": {
            "text/plain": [
              "<matplotlib.axes._subplots.AxesSubplot at 0x7f59797358b0>"
            ]
          },
          "metadata": {},
          "execution_count": 9
        },
        {
          "output_type": "display_data",
          "data": {
            "text/plain": [
              "<Figure size 1080x288 with 2 Axes>"
            ],
            "image/png": "[encoded data removed]"
          },
          "metadata": {
            "needs_background": "light"
          }
        }
      ],
      "source": [
        "fig, (axis1, axis2) = plt.subplots(1,2, figsize=(15,4))\n",
        "\n",
        "sns.barplot(x='Risk', y='Score', data=df, ax=axis1)\n",
        "sns.barplot(x='Risk', y='Marks', data=df, ax=axis2)"
      ]
    },
    {
      "cell_type": "markdown",
      "id": "contemporary-region",
      "metadata": {
        "papermill": {
          "duration": 0.036328,
          "end_time": "2021-04-14T00:59:38.758293",
          "exception": false,
          "start_time": "2021-04-14T00:59:38.721965",
          "status": "completed"
        },
        "tags": [],
        "id": "contemporary-region"
      },
      "source": [
        "### feature"
      ]
    },
    {
      "cell_type": "code",
      "execution_count": 10,
      "id": "considerable-vertex",
      "metadata": {
        "execution": {
          "iopub.execute_input": "2021-04-14T00:59:38.836623Z",
          "iopub.status.busy": "2021-04-14T00:59:38.835955Z",
          "iopub.status.idle": "2021-04-14T00:59:38.840208Z",
          "shell.execute_reply": "2021-04-14T00:59:38.839538Z"
        },
        "papermill": {
          "duration": 0.045851,
          "end_time": "2021-04-14T00:59:38.840351",
          "exception": false,
          "start_time": "2021-04-14T00:59:38.794500",
          "status": "completed"
        },
        "tags": [],
        "colab": {
          "base_uri": "https://localhost:8080/"
        },
        "id": "considerable-vertex",
        "outputId": "0c4a7d02-6125-41b8-c01f-79badbe9fd49"
      },
      "outputs": [
        {
          "output_type": "execute_result",
          "data": {
            "text/plain": [
              "Index(['Sector_score', 'LOCATION_ID', 'PARA_A', 'SCORE_A', 'PARA_B', 'SCORE_B',\n",
              "       'TOTAL', 'numbers', 'Marks', 'Money_Value', 'MONEY_Marks', 'District',\n",
              "       'Loss', 'LOSS_SCORE', 'History', 'History_score', 'Score', 'Risk'],\n",
              "      dtype='object')"
            ]
          },
          "metadata": {},
          "execution_count": 10
        }
      ],
      "source": [
        "df.columns"
      ]
    },
    {
      "cell_type": "code",
      "execution_count": 11,
      "id": "inclusive-albania",
      "metadata": {
        "execution": {
          "iopub.execute_input": "2021-04-14T00:59:38.921164Z",
          "iopub.status.busy": "2021-04-14T00:59:38.920508Z",
          "iopub.status.idle": "2021-04-14T00:59:38.923819Z",
          "shell.execute_reply": "2021-04-14T00:59:38.923224Z"
        },
        "papermill": {
          "duration": 0.046364,
          "end_time": "2021-04-14T00:59:38.923968",
          "exception": false,
          "start_time": "2021-04-14T00:59:38.877604",
          "status": "completed"
        },
        "tags": [],
        "id": "inclusive-albania"
      },
      "outputs": [],
      "source": [
        "df.drop(['District', 'Sector_score', 'LOCATION_ID', ], axis=1, inplace=True)"
      ]
    },
    {
      "cell_type": "code",
      "execution_count": 12,
      "id": "optical-california",
      "metadata": {
        "execution": {
          "iopub.execute_input": "2021-04-14T00:59:39.002809Z",
          "iopub.status.busy": "2021-04-14T00:59:39.002064Z",
          "iopub.status.idle": "2021-04-14T00:59:39.011342Z",
          "shell.execute_reply": "2021-04-14T00:59:39.011881Z"
        },
        "papermill": {
          "duration": 0.051301,
          "end_time": "2021-04-14T00:59:39.012063",
          "exception": false,
          "start_time": "2021-04-14T00:59:38.960762",
          "status": "completed"
        },
        "tags": [],
        "colab": {
          "base_uri": "https://localhost:8080/"
        },
        "id": "optical-california",
        "outputId": "b910b841-949e-4487-c14e-e16db6dd7e54"
      },
      "outputs": [
        {
          "output_type": "execute_result",
          "data": {
            "text/plain": [
              "PARA_A           0\n",
              "SCORE_A          0\n",
              "PARA_B           0\n",
              "SCORE_B          0\n",
              "TOTAL            0\n",
              "numbers          0\n",
              "Marks            0\n",
              "Money_Value      1\n",
              "MONEY_Marks      0\n",
              "Loss             0\n",
              "LOSS_SCORE       0\n",
              "History          0\n",
              "History_score    0\n",
              "Score            0\n",
              "Risk             0\n",
              "dtype: int64"
            ]
          },
          "metadata": {},
          "execution_count": 12
        }
      ],
      "source": [
        "df.isnull().sum()"
      ]
    },
    {
      "cell_type": "code",
      "execution_count": 13,
      "id": "hollywood-salon",
      "metadata": {
        "execution": {
          "iopub.execute_input": "2021-04-14T00:59:39.092156Z",
          "iopub.status.busy": "2021-04-14T00:59:39.091483Z",
          "iopub.status.idle": "2021-04-14T00:59:39.096185Z",
          "shell.execute_reply": "2021-04-14T00:59:39.096777Z"
        },
        "papermill": {
          "duration": 0.04671,
          "end_time": "2021-04-14T00:59:39.096967",
          "exception": false,
          "start_time": "2021-04-14T00:59:39.050257",
          "status": "completed"
        },
        "tags": [],
        "id": "hollywood-salon"
      },
      "outputs": [],
      "source": [
        "money_median = df['Money_Value'].median()\n"
      ]
    },
    {
      "cell_type": "code",
      "execution_count": 14,
      "id": "creative-wagon",
      "metadata": {
        "execution": {
          "iopub.execute_input": "2021-04-14T00:59:39.177584Z",
          "iopub.status.busy": "2021-04-14T00:59:39.176888Z",
          "iopub.status.idle": "2021-04-14T00:59:39.182434Z",
          "shell.execute_reply": "2021-04-14T00:59:39.183082Z"
        },
        "papermill": {
          "duration": 0.047189,
          "end_time": "2021-04-14T00:59:39.183286",
          "exception": false,
          "start_time": "2021-04-14T00:59:39.136097",
          "status": "completed"
        },
        "tags": [],
        "id": "creative-wagon"
      },
      "outputs": [],
      "source": [
        "df['Money_Value'].fillna(money_median, inplace=True)"
      ]
    },
    {
      "cell_type": "code",
      "execution_count": 15,
      "id": "convinced-circuit",
      "metadata": {
        "execution": {
          "iopub.execute_input": "2021-04-14T00:59:39.262840Z",
          "iopub.status.busy": "2021-04-14T00:59:39.262130Z",
          "iopub.status.idle": "2021-04-14T00:59:39.269434Z",
          "shell.execute_reply": "2021-04-14T00:59:39.269988Z"
        },
        "papermill": {
          "duration": 0.048996,
          "end_time": "2021-04-14T00:59:39.270175",
          "exception": false,
          "start_time": "2021-04-14T00:59:39.221179",
          "status": "completed"
        },
        "tags": [],
        "colab": {
          "base_uri": "https://localhost:8080/"
        },
        "id": "convinced-circuit",
        "outputId": "969625b1-228c-4e70-e8f2-d5e5b06d8e18"
      },
      "outputs": [
        {
          "output_type": "execute_result",
          "data": {
            "text/plain": [
              "PARA_A           float64\n",
              "SCORE_A            int64\n",
              "PARA_B           float64\n",
              "SCORE_B            int64\n",
              "TOTAL            float64\n",
              "numbers          float64\n",
              "Marks              int64\n",
              "Money_Value      float64\n",
              "MONEY_Marks        int64\n",
              "Loss               int64\n",
              "LOSS_SCORE         int64\n",
              "History            int64\n",
              "History_score      int64\n",
              "Score            float64\n",
              "Risk               int64\n",
              "dtype: object"
            ]
          },
          "metadata": {},
          "execution_count": 15
        }
      ],
      "source": [
        "df.dtypes"
      ]
    },
    {
      "cell_type": "code",
      "execution_count": 16,
      "id": "maritime-lindsay",
      "metadata": {
        "execution": {
          "iopub.execute_input": "2021-04-14T00:59:39.351684Z",
          "iopub.status.busy": "2021-04-14T00:59:39.350879Z",
          "iopub.status.idle": "2021-04-14T00:59:39.358842Z",
          "shell.execute_reply": "2021-04-14T00:59:39.359365Z"
        },
        "papermill": {
          "duration": 0.050479,
          "end_time": "2021-04-14T00:59:39.359568",
          "exception": false,
          "start_time": "2021-04-14T00:59:39.309089",
          "status": "completed"
        },
        "tags": [],
        "colab": {
          "base_uri": "https://localhost:8080/"
        },
        "id": "maritime-lindsay",
        "outputId": "509f40c0-f2cc-4345-e0fe-bfcb5aac7c6b"
      },
      "outputs": [
        {
          "output_type": "execute_result",
          "data": {
            "text/plain": [
              "array([[4.18, 6.  , 2.5 , ..., 0.  , 2.  , 2.4 ],\n",
              "       [0.  , 2.  , 4.83, ..., 0.  , 2.  , 2.  ],\n",
              "       [0.51, 2.  , 0.23, ..., 0.  , 2.  , 2.  ],\n",
              "       ...,\n",
              "       [0.24, 2.  , 0.04, ..., 0.  , 2.  , 2.  ],\n",
              "       [0.2 , 2.  , 0.  , ..., 0.  , 2.  , 2.  ],\n",
              "       [0.  , 2.  , 0.  , ..., 0.  , 2.  , 2.  ]])"
            ]
          },
          "metadata": {},
          "execution_count": 16
        }
      ],
      "source": [
        "X = df.iloc[:, 0:14].values\n",
        "X"
      ]
    },
    {
      "cell_type": "code",
      "execution_count": 17,
      "id": "manufactured-telescope",
      "metadata": {
        "execution": {
          "iopub.execute_input": "2021-04-14T00:59:39.441920Z",
          "iopub.status.busy": "2021-04-14T00:59:39.441178Z",
          "iopub.status.idle": "2021-04-14T00:59:39.449928Z",
          "shell.execute_reply": "2021-04-14T00:59:39.450568Z"
        },
        "papermill": {
          "duration": 0.051216,
          "end_time": "2021-04-14T00:59:39.450757",
          "exception": false,
          "start_time": "2021-04-14T00:59:39.399541",
          "status": "completed"
        },
        "tags": [],
        "colab": {
          "base_uri": "https://localhost:8080/"
        },
        "id": "manufactured-telescope",
        "outputId": "5eab06fa-81ec-436c-ad88-119f318be6fe"
      },
      "outputs": [
        {
          "output_type": "execute_result",
          "data": {
            "text/plain": [
              "array([1, 0, 0, 1, 0, 0, 1, 1, 1, 1, 1, 1, 1, 1, 0, 1, 1, 1, 1, 1, 1, 1,\n",
              "       1, 0, 1, 1, 0, 1, 0, 1, 1, 1, 0, 0, 0, 0, 1, 0, 1, 1, 1, 0, 0, 0,\n",
              "       1, 0, 1, 0, 1, 1, 1, 1, 1, 0, 1, 0, 1, 1, 1, 0, 0, 1, 0, 1, 1, 1,\n",
              "       0, 1, 1, 0, 1, 1, 1, 1, 0, 1, 1, 1, 1, 1, 1, 1, 0, 0, 0, 1, 0, 1,\n",
              "       1, 1, 1, 1, 1, 1, 1, 1, 1, 1, 1, 1, 1, 1, 1, 0, 1, 1, 1, 1, 1, 0,\n",
              "       1, 0, 1, 0, 1, 1, 1, 1, 1, 1, 1, 1, 1, 1, 1, 1, 1, 1, 1, 1, 1, 1,\n",
              "       1, 1, 1, 1, 1, 1, 1, 1, 1, 1, 1, 1, 1, 1, 1, 1, 1, 1, 1, 1, 1, 1,\n",
              "       1, 1, 1, 1, 1, 1, 1, 1, 1, 1, 1, 1, 1, 1, 1, 1, 1, 1, 1, 1, 0, 1,\n",
              "       0, 1, 1, 0, 1, 0, 0, 0, 0, 1, 0, 1, 0, 0, 1, 1, 1, 1, 1, 1, 1, 1,\n",
              "       1, 1, 1, 1, 1, 1, 1, 1, 1, 1, 1, 1, 1, 1, 1, 1, 1, 1, 1, 1, 1, 1,\n",
              "       1, 1, 1, 1, 1, 1, 1, 1, 1, 1, 1, 1, 1, 1, 1, 1, 1, 1, 1, 1, 1, 1,\n",
              "       1, 1, 1, 1, 1, 1, 1, 1, 1, 1, 0, 1, 1, 1, 1, 0, 0, 0, 1, 0, 1, 1,\n",
              "       0, 0, 1, 0, 0, 0, 0, 0, 1, 1, 1, 1, 1, 1, 1, 1, 1, 1, 1, 1, 1, 1,\n",
              "       1, 1, 1, 1, 1, 0, 1, 1, 1, 1, 1, 1, 1, 0, 1, 0, 1, 1, 0, 1, 0, 1,\n",
              "       1, 0, 0, 0, 1, 1, 1, 0, 0, 1, 0, 1, 1, 1, 1, 1, 1, 1, 1, 0, 1, 1,\n",
              "       0, 0, 0, 0, 0, 0, 0, 0, 1, 1, 1, 1, 1, 0, 1, 0, 1, 0, 0, 1, 1, 0,\n",
              "       1, 1, 1, 0, 0, 1, 1, 0, 1, 1, 1, 1, 1, 1, 0, 0, 1, 1, 1, 1, 1, 0,\n",
              "       0, 0, 1, 1, 1, 1, 1, 1, 1, 1, 1, 1, 1, 0, 0, 1, 1, 1, 1, 1, 1, 1,\n",
              "       1, 0, 1, 1, 1, 1, 0, 1, 1, 1, 1, 1, 1, 1, 1, 0, 1, 1, 1, 1, 1, 1,\n",
              "       1, 1, 1, 1, 1, 1, 1, 1, 0, 1, 1, 1, 1, 1, 1, 1, 1, 1, 0, 0, 1, 1,\n",
              "       1, 1, 1, 1, 1, 1, 1, 1, 1, 1, 1, 1, 1, 1, 0, 0, 1, 1, 1, 1, 1, 1,\n",
              "       1, 1, 1, 1, 0, 1, 1, 0, 0, 1, 1, 1, 0, 1, 0, 1, 1, 0, 1, 1, 1, 1,\n",
              "       1, 1, 1, 1, 1, 1, 0, 0, 0, 0, 1, 1, 1, 1, 1, 1, 0, 0, 0, 0, 0, 0,\n",
              "       0, 0, 0, 1, 0, 0, 0, 0, 0, 0, 0, 0, 0, 1, 0, 0, 0, 0, 0, 0, 0, 0,\n",
              "       0, 0, 1, 0, 0, 0, 0, 0, 0, 0, 0, 1, 0, 0, 1, 0, 0, 0, 0, 0, 0, 0,\n",
              "       1, 0, 0, 0, 0, 1, 1, 0, 0, 0, 0, 0, 0, 0, 0, 0, 0, 0, 0, 1, 1, 0,\n",
              "       1, 0, 0, 0, 1, 1, 1, 0, 1, 1, 1, 1, 1, 1, 0, 0, 1, 0, 1, 1, 1, 1,\n",
              "       1, 0, 1, 0, 0, 1, 0, 1, 0, 1, 1, 1, 1, 1, 1, 0, 1, 1, 1, 0, 0, 1,\n",
              "       0, 0, 0, 0, 0, 0, 0, 0, 0, 0, 0, 0, 1, 1, 1, 1, 1, 1, 1, 1, 1, 1,\n",
              "       1, 1, 1, 0, 0, 1, 0, 0, 0, 1, 0, 1, 0, 0, 0, 1, 0, 0, 1, 0, 0, 0,\n",
              "       0, 0, 0, 1, 1, 0, 1, 1, 1, 0, 0, 1, 1, 0, 0, 0, 1, 1, 0, 0, 0, 0,\n",
              "       0, 0, 0, 0, 0, 0, 0, 1, 1, 0, 0, 0, 0, 0, 0, 1, 0, 1, 1, 0, 0, 1,\n",
              "       0, 0, 0, 1, 0, 0, 0, 0, 0, 0, 0, 0, 1, 1, 0, 0, 0, 1, 1, 0, 1, 1,\n",
              "       0, 0, 0, 1, 1, 1, 0, 0, 0, 1, 0, 1, 0, 0, 1, 1, 0, 1, 0, 1, 0, 0,\n",
              "       0, 0, 1, 1, 0, 0, 0, 1, 0, 1, 0, 0, 1, 0, 0, 0, 1, 1, 0, 0, 0, 0,\n",
              "       0, 0, 0, 0, 0, 0])"
            ]
          },
          "metadata": {},
          "execution_count": 17
        }
      ],
      "source": [
        "y = df.iloc[:, 14].values\n",
        "y"
      ]
    },
    {
      "cell_type": "markdown",
      "id": "sorted-brazilian",
      "metadata": {
        "papermill": {
          "duration": 0.038883,
          "end_time": "2021-04-14T00:59:39.528778",
          "exception": false,
          "start_time": "2021-04-14T00:59:39.489895",
          "status": "completed"
        },
        "tags": [],
        "id": "sorted-brazilian"
      },
      "source": [
        "#### Train test"
      ]
    },
    {
      "cell_type": "code",
      "execution_count": 18,
      "id": "western-spank",
      "metadata": {
        "execution": {
          "iopub.execute_input": "2021-04-14T00:59:39.610724Z",
          "iopub.status.busy": "2021-04-14T00:59:39.609920Z",
          "iopub.status.idle": "2021-04-14T00:59:39.891183Z",
          "shell.execute_reply": "2021-04-14T00:59:39.890591Z"
        },
        "papermill": {
          "duration": 0.323354,
          "end_time": "2021-04-14T00:59:39.891348",
          "exception": false,
          "start_time": "2021-04-14T00:59:39.567994",
          "status": "completed"
        },
        "tags": [],
        "id": "western-spank"
      },
      "outputs": [],
      "source": [
        "from sklearn.model_selection import train_test_split\n",
        "X_train, X_test, y_train, y_test = train_test_split(X, y, test_size=0.25, random_state=0)"
      ]
    },
    {
      "cell_type": "markdown",
      "id": "environmental-workshop",
      "metadata": {
        "papermill": {
          "duration": 0.039885,
          "end_time": "2021-04-14T00:59:39.971604",
          "exception": false,
          "start_time": "2021-04-14T00:59:39.931719",
          "status": "completed"
        },
        "tags": [],
        "id": "environmental-workshop"
      },
      "source": [
        "### Train model"
      ]
    },
    {
      "cell_type": "code",
      "source": [
        "#implimenting random forest\n",
        "from sklearn.ensemble import RandomForestClassifier\n",
        "rf=RandomForestClassifier(n_estimators=100,criterion='gini')\n",
        "model4=rf.fit(X_train,y_train)\n",
        "ypred7=model4.predict(X_test)"
      ],
      "metadata": {
        "id": "cwfzfBTtbr3B"
      },
      "id": "cwfzfBTtbr3B",
      "execution_count": 19,
      "outputs": []
    },
    {
      "cell_type": "code",
      "source": [
        "print(\"score on test: \"  + str(rf.score(X_test, y_test)))\n",
        "print(\"score on train: \" + str(rf.score(X_train, y_train)))"
      ],
      "metadata": {
        "colab": {
          "base_uri": "https://localhost:8080/"
        },
        "id": "pv_Jx14Ab8f_",
        "outputId": "59d85124-1348-4dcb-9041-4c73094e00b7"
      },
      "id": "pv_Jx14Ab8f_",
      "execution_count": 20,
      "outputs": [
        {
          "output_type": "stream",
          "name": "stdout",
          "text": [
            "score on test: 1.0\n",
            "score on train: 1.0\n"
          ]
        }
      ]
    },
    {
      "cell_type": "markdown",
      "id": "economic-constitution",
      "metadata": {
        "papermill": {
          "duration": 0.039509,
          "end_time": "2021-04-14T00:59:40.473138",
          "exception": false,
          "start_time": "2021-04-14T00:59:40.433629",
          "status": "completed"
        },
        "tags": [],
        "id": "economic-constitution"
      },
      "source": [
        "#### Confusion matrix and accuracy score"
      ]
    },
    {
      "cell_type": "code",
      "execution_count": 21,
      "id": "sunrise-approval",
      "metadata": {
        "execution": {
          "iopub.execute_input": "2021-04-14T00:59:40.558617Z",
          "iopub.status.busy": "2021-04-14T00:59:40.557471Z",
          "iopub.status.idle": "2021-04-14T00:59:40.561043Z",
          "shell.execute_reply": "2021-04-14T00:59:40.560531Z"
        },
        "papermill": {
          "duration": 0.048271,
          "end_time": "2021-04-14T00:59:40.561185",
          "exception": false,
          "start_time": "2021-04-14T00:59:40.512914",
          "status": "completed"
        },
        "tags": [],
        "id": "sunrise-approval"
      },
      "outputs": [],
      "source": [
        "from sklearn.metrics import confusion_matrix, accuracy_score, classification_report"
      ]
    },
    {
      "cell_type": "code",
      "execution_count": 23,
      "id": "whole-airport",
      "metadata": {
        "execution": {
          "iopub.execute_input": "2021-04-14T00:59:40.647978Z",
          "iopub.status.busy": "2021-04-14T00:59:40.647157Z",
          "iopub.status.idle": "2021-04-14T00:59:40.653372Z",
          "shell.execute_reply": "2021-04-14T00:59:40.652614Z"
        },
        "papermill": {
          "duration": 0.051717,
          "end_time": "2021-04-14T00:59:40.653597",
          "exception": false,
          "start_time": "2021-04-14T00:59:40.601880",
          "status": "completed"
        },
        "scrolled": true,
        "tags": [],
        "colab": {
          "base_uri": "https://localhost:8080/"
        },
        "id": "whole-airport",
        "outputId": "fa04c646-0428-467e-c558-cf990e9f9a10"
      },
      "outputs": [
        {
          "output_type": "stream",
          "name": "stdout",
          "text": [
            "Precision: 1.0\n"
          ]
        }
      ],
      "source": [
        "precision = accuracy_score(y_test, ypred7)\n",
        "print(f'Precision: {precision}')"
      ]
    },
    {
      "cell_type": "code",
      "execution_count": 24,
      "id": "guilty-short",
      "metadata": {
        "execution": {
          "iopub.execute_input": "2021-04-14T00:59:40.746227Z",
          "iopub.status.busy": "2021-04-14T00:59:40.745579Z",
          "iopub.status.idle": "2021-04-14T00:59:40.749659Z",
          "shell.execute_reply": "2021-04-14T00:59:40.748770Z"
        },
        "papermill": {
          "duration": 0.053717,
          "end_time": "2021-04-14T00:59:40.749848",
          "exception": false,
          "start_time": "2021-04-14T00:59:40.696131",
          "status": "completed"
        },
        "tags": [],
        "colab": {
          "base_uri": "https://localhost:8080/"
        },
        "id": "guilty-short",
        "outputId": "6c5d3602-b188-4c24-c353-17584c861c39"
      },
      "outputs": [
        {
          "output_type": "stream",
          "name": "stdout",
          "text": [
            "Matrix:\n",
            " [[ 82   0]\n",
            " [  0 112]]\n"
          ]
        }
      ],
      "source": [
        "matrix = confusion_matrix(y_test, ypred7)\n",
        "print(f'Matrix:\\n {matrix}')"
      ]
    },
    {
      "cell_type": "markdown",
      "id": "overhead-credit",
      "metadata": {
        "papermill": {
          "duration": 0.041461,
          "end_time": "2021-04-14T00:59:40.833048",
          "exception": false,
          "start_time": "2021-04-14T00:59:40.791587",
          "status": "completed"
        },
        "tags": [],
        "id": "overhead-credit"
      },
      "source": [
        "#### Cros validation"
      ]
    },
    {
      "cell_type": "code",
      "execution_count": 25,
      "id": "wanted-train",
      "metadata": {
        "execution": {
          "iopub.execute_input": "2021-04-14T00:59:40.922767Z",
          "iopub.status.busy": "2021-04-14T00:59:40.922074Z",
          "iopub.status.idle": "2021-04-14T00:59:40.924984Z",
          "shell.execute_reply": "2021-04-14T00:59:40.925472Z"
        },
        "papermill": {
          "duration": 0.050933,
          "end_time": "2021-04-14T00:59:40.925665",
          "exception": false,
          "start_time": "2021-04-14T00:59:40.874732",
          "status": "completed"
        },
        "tags": [],
        "id": "wanted-train"
      },
      "outputs": [],
      "source": [
        "from sklearn.model_selection import cross_val_score"
      ]
    },
    {
      "cell_type": "code",
      "execution_count": 26,
      "id": "reasonable-transaction",
      "metadata": {
        "execution": {
          "iopub.execute_input": "2021-04-14T00:59:41.013384Z",
          "iopub.status.busy": "2021-04-14T00:59:41.012721Z",
          "iopub.status.idle": "2021-04-14T00:59:41.043998Z",
          "shell.execute_reply": "2021-04-14T00:59:41.045563Z"
        },
        "papermill": {
          "duration": 0.079031,
          "end_time": "2021-04-14T00:59:41.045870",
          "exception": false,
          "start_time": "2021-04-14T00:59:40.966839",
          "status": "completed"
        },
        "tags": [],
        "id": "reasonable-transaction"
      },
      "outputs": [],
      "source": [
        "result = cross_val_score(rf, X, y, cv = 10)"
      ]
    },
    {
      "cell_type": "code",
      "execution_count": 27,
      "id": "black-logic",
      "metadata": {
        "execution": {
          "iopub.execute_input": "2021-04-14T00:59:41.157790Z",
          "iopub.status.busy": "2021-04-14T00:59:41.156876Z",
          "iopub.status.idle": "2021-04-14T00:59:41.160535Z",
          "shell.execute_reply": "2021-04-14T00:59:41.161208Z"
        },
        "papermill": {
          "duration": 0.053817,
          "end_time": "2021-04-14T00:59:41.161385",
          "exception": false,
          "start_time": "2021-04-14T00:59:41.107568",
          "status": "completed"
        },
        "tags": [],
        "colab": {
          "base_uri": "https://localhost:8080/"
        },
        "id": "black-logic",
        "outputId": "21dd18c6-91e0-4359-e700-90b0bc9338f5"
      },
      "outputs": [
        {
          "output_type": "stream",
          "name": "stdout",
          "text": [
            " Cross Validation Mean: 1.0\n",
            " Cross Validation Std: 0.0\n"
          ]
        }
      ],
      "source": [
        "print(f' Cross Validation Mean: {result.mean()}')\n",
        "print(f' Cross Validation Std: {result.std()}')"
      ]
    },
    {
      "cell_type": "code",
      "source": [
        "#cross validation\n",
        "from sklearn import model_selection\n",
        "from sklearn.model_selection import cross_val_score\n",
        "kfold = model_selection.KFold(n_splits=10, random_state=None)\n",
        "scoring = 'accuracy'\n",
        "\n",
        "acc_rf = cross_val_score(estimator = rf, X = X_train, y = y_train, cv = kfold,scoring=scoring)\n",
        "acc_rf.mean()"
      ],
      "metadata": {
        "colab": {
          "base_uri": "https://localhost:8080/"
        },
        "id": "wpx7mVjpcJe3",
        "outputId": "b177db9d-c22b-4e51-c69f-3cccb455ecfb"
      },
      "id": "wpx7mVjpcJe3",
      "execution_count": 28,
      "outputs": [
        {
          "output_type": "execute_result",
          "data": {
            "text/plain": [
              "1.0"
            ]
          },
          "metadata": {},
          "execution_count": 28
        }
      ]
    },
    {
      "cell_type": "markdown",
      "id": "junior-wages",
      "metadata": {
        "papermill": {
          "duration": 0.042238,
          "end_time": "2021-04-14T00:59:41.254772",
          "exception": false,
          "start_time": "2021-04-14T00:59:41.212534",
          "status": "completed"
        },
        "tags": [],
        "id": "junior-wages"
      },
      "source": [
        "### Export model"
      ]
    },
    {
      "cell_type": "code",
      "execution_count": 30,
      "id": "blank-iraqi",
      "metadata": {
        "execution": {
          "iopub.execute_input": "2021-04-14T00:59:41.358991Z",
          "iopub.status.busy": "2021-04-14T00:59:41.357927Z",
          "iopub.status.idle": "2021-04-14T00:59:41.362527Z",
          "shell.execute_reply": "2021-04-14T00:59:41.363176Z"
        },
        "papermill": {
          "duration": 0.06381,
          "end_time": "2021-04-14T00:59:41.363357",
          "exception": false,
          "start_time": "2021-04-14T00:59:41.299547",
          "status": "completed"
        },
        "tags": [],
        "id": "blank-iraqi"
      },
      "outputs": [],
      "source": [
        "import pickle"
      ]
    },
    {
      "cell_type": "code",
      "execution_count": 31,
      "id": "substantial-people",
      "metadata": {
        "execution": {
          "iopub.execute_input": "2021-04-14T00:59:41.455560Z",
          "iopub.status.busy": "2021-04-14T00:59:41.454533Z",
          "iopub.status.idle": "2021-04-14T00:59:41.460911Z",
          "shell.execute_reply": "2021-04-14T00:59:41.460272Z"
        },
        "papermill": {
          "duration": 0.053571,
          "end_time": "2021-04-14T00:59:41.461061",
          "exception": false,
          "start_time": "2021-04-14T00:59:41.407490",
          "status": "completed"
        },
        "tags": [],
        "id": "substantial-people"
      },
      "outputs": [],
      "source": [
        "pickle.dump(rf, open('classifier_model_dt', 'wb'))"
      ]
    },
    {
      "cell_type": "markdown",
      "id": "alternate-substitute",
      "metadata": {
        "papermill": {
          "duration": 0.044108,
          "end_time": "2021-04-14T00:59:41.549323",
          "exception": false,
          "start_time": "2021-04-14T00:59:41.505215",
          "status": "completed"
        },
        "tags": [],
        "id": "alternate-substitute"
      },
      "source": [
        "### load and Predict"
      ]
    },
    {
      "cell_type": "code",
      "execution_count": 32,
      "id": "thick-clone",
      "metadata": {
        "execution": {
          "iopub.execute_input": "2021-04-14T00:59:41.642199Z",
          "iopub.status.busy": "2021-04-14T00:59:41.641122Z",
          "iopub.status.idle": "2021-04-14T00:59:41.647055Z",
          "shell.execute_reply": "2021-04-14T00:59:41.646477Z"
        },
        "papermill": {
          "duration": 0.053131,
          "end_time": "2021-04-14T00:59:41.647197",
          "exception": false,
          "start_time": "2021-04-14T00:59:41.594066",
          "status": "completed"
        },
        "tags": [],
        "id": "thick-clone"
      },
      "outputs": [],
      "source": [
        "load_model = pickle.load(open('classifier_model_dt', 'rb'))"
      ]
    },
    {
      "cell_type": "code",
      "execution_count": 33,
      "id": "sufficient-permission",
      "metadata": {
        "execution": {
          "iopub.execute_input": "2021-04-14T00:59:41.785006Z",
          "iopub.status.busy": "2021-04-14T00:59:41.783961Z",
          "iopub.status.idle": "2021-04-14T00:59:41.789730Z",
          "shell.execute_reply": "2021-04-14T00:59:41.790516Z"
        },
        "papermill": {
          "duration": 0.099767,
          "end_time": "2021-04-14T00:59:41.790764",
          "exception": false,
          "start_time": "2021-04-14T00:59:41.690997",
          "status": "completed"
        },
        "tags": [],
        "id": "sufficient-permission"
      },
      "outputs": [],
      "source": [
        "new_data = [1, 3, 2, 4, 6, 6, 7, 8, 6, 5, 4, 2, 2, 3]\n",
        "new_data = np.asarray(new_data).reshape(1, -1)\n"
      ]
    },
    {
      "cell_type": "code",
      "execution_count": 34,
      "id": "spare-study",
      "metadata": {
        "execution": {
          "iopub.execute_input": "2021-04-14T00:59:41.892940Z",
          "iopub.status.busy": "2021-04-14T00:59:41.892210Z",
          "iopub.status.idle": "2021-04-14T00:59:41.898859Z",
          "shell.execute_reply": "2021-04-14T00:59:41.898137Z"
        },
        "papermill": {
          "duration": 0.055381,
          "end_time": "2021-04-14T00:59:41.899030",
          "exception": false,
          "start_time": "2021-04-14T00:59:41.843649",
          "status": "completed"
        },
        "scrolled": true,
        "tags": [],
        "colab": {
          "base_uri": "https://localhost:8080/"
        },
        "id": "spare-study",
        "outputId": "037a2c23-643c-416a-979d-8aa0601505b1"
      },
      "outputs": [
        {
          "output_type": "execute_result",
          "data": {
            "text/plain": [
              "array([[1, 3, 2, 4, 6, 6, 7, 8, 6, 5, 4, 2, 2, 3]])"
            ]
          },
          "metadata": {},
          "execution_count": 34
        }
      ],
      "source": [
        "new_data"
      ]
    },
    {
      "cell_type": "code",
      "execution_count": 35,
      "id": "returning-springfield",
      "metadata": {
        "execution": {
          "iopub.execute_input": "2021-04-14T00:59:41.994025Z",
          "iopub.status.busy": "2021-04-14T00:59:41.993381Z",
          "iopub.status.idle": "2021-04-14T00:59:41.997301Z",
          "shell.execute_reply": "2021-04-14T00:59:41.997826Z"
        },
        "papermill": {
          "duration": 0.052752,
          "end_time": "2021-04-14T00:59:41.997999",
          "exception": false,
          "start_time": "2021-04-14T00:59:41.945247",
          "status": "completed"
        },
        "tags": [],
        "id": "returning-springfield"
      },
      "outputs": [],
      "source": [
        "result_data= load_model.predict(new_data)"
      ]
    },
    {
      "cell_type": "code",
      "execution_count": 36,
      "id": "victorian-segment",
      "metadata": {
        "execution": {
          "iopub.execute_input": "2021-04-14T00:59:42.091361Z",
          "iopub.status.busy": "2021-04-14T00:59:42.090700Z",
          "iopub.status.idle": "2021-04-14T00:59:42.095830Z",
          "shell.execute_reply": "2021-04-14T00:59:42.096439Z"
        },
        "papermill": {
          "duration": 0.055363,
          "end_time": "2021-04-14T00:59:42.096633",
          "exception": false,
          "start_time": "2021-04-14T00:59:42.041270",
          "status": "completed"
        },
        "tags": [],
        "colab": {
          "base_uri": "https://localhost:8080/"
        },
        "id": "victorian-segment",
        "outputId": "70abff69-71fa-4453-c88c-5fe3b1cbde7d"
      },
      "outputs": [
        {
          "output_type": "execute_result",
          "data": {
            "text/plain": [
              "array([1])"
            ]
          },
          "metadata": {},
          "execution_count": 36
        }
      ],
      "source": [
        "result_data"
      ]
    },
    {
      "cell_type": "code",
      "execution_count": 37,
      "id": "nonprofit-disease",
      "metadata": {
        "execution": {
          "iopub.execute_input": "2021-04-14T00:59:42.189868Z",
          "iopub.status.busy": "2021-04-14T00:59:42.189142Z",
          "iopub.status.idle": "2021-04-14T00:59:42.195517Z",
          "shell.execute_reply": "2021-04-14T00:59:42.196152Z"
        },
        "papermill": {
          "duration": 0.054871,
          "end_time": "2021-04-14T00:59:42.196327",
          "exception": false,
          "start_time": "2021-04-14T00:59:42.141456",
          "status": "completed"
        },
        "tags": [],
        "colab": {
          "base_uri": "https://localhost:8080/"
        },
        "id": "nonprofit-disease",
        "outputId": "8fc7e60e-0e26-4eda-ccb0-d1b2546f90e4"
      },
      "outputs": [
        {
          "output_type": "execute_result",
          "data": {
            "text/plain": [
              "1"
            ]
          },
          "metadata": {},
          "execution_count": 37
        }
      ],
      "source": [
        "result_data[0]"
      ]
    },
    {
      "cell_type": "code",
      "source": [],
      "metadata": {
        "id": "3hQWQFJwcYH3"
      },
      "id": "3hQWQFJwcYH3",
      "execution_count": null,
      "outputs": []
    }
  ],
  "metadata": {
    "kernelspec": {
      "display_name": "Python 3",
      "language": "python",
      "name": "python3"
    },
    "language_info": {
      "codemirror_mode": {
        "name": "ipython",
        "version": 3
      },
      "file_extension": ".py",
      "mimetype": "text/x-python",
      "name": "python",
      "nbconvert_exporter": "python",
      "pygments_lexer": "ipython3",
      "version": "3.7.9"
    },
    "papermill": {
      "default_parameters": {},
      "duration": 17.568628,
      "end_time": "2021-04-14T00:59:43.052907",
      "environment_variables": {},
      "exception": null,
      "input_path": "__notebook__.ipynb",
      "output_path": "__notebook__.ipynb",
      "parameters": {},
      "start_time": "2021-04-14T00:59:25.484279",
      "version": "2.3.2"
    },
    "colab": {
      "provenance": []
    }
  },
  "nbformat": 4,
  "nbformat_minor": 5
}