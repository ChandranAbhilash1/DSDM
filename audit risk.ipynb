{
  "nbformat": 4,
  "nbformat_minor": 0,
  "metadata": {
    "colab": {
      "provenance": []
    },
    "kernelspec": {
      "name": "python3",
      "display_name": "Python 3"
    },
    "language_info": {
      "name": "python"
    }
  },
  "cells": [
    {
      "cell_type": "code",
      "execution_count": 1,
      "metadata": {
        "id": "4VFvNlBFVv9U"
      },
      "outputs": [],
      "source": [
        "#import all the required package\n",
        "import pandas as pd\n",
        "import numpy as np\n",
        "import matplotlib.pyplot as plt\n",
        "import seaborn as sns\n",
        "from sklearn.preprocessing import StandardScaler\n",
        "from sklearn.model_selection import train_test_split\n",
        "from sklearn.metrics import confusion_matrix,precision_score,recall_score,roc_auc_score,f1_score,accuracy_score\n",
        "from sklearn import model_selection\n",
        "from sklearn.model_selection import cross_val_score"
      ]
    },
    {
      "cell_type": "code",
      "source": [
        "#import the dataset\n",
        "input_df=pd.read_csv(r\"/content/audit_risk.csv\")\n"
      ],
      "metadata": {
        "id": "vqB_3tECVwsj"
      },
      "execution_count": 2,
      "outputs": []
    },
    {
      "cell_type": "code",
      "source": [
        "#size of the dataset\n",
        "print(input_df.shape)"
      ],
      "metadata": {
        "colab": {
          "base_uri": "https://localhost:8080/"
        },
        "id": "HXVP7vlDV3ZU",
        "outputId": "ad5c515e-3296-4230-c1b3-3197f3ffd11d"
      },
      "execution_count": 3,
      "outputs": [
        {
          "output_type": "stream",
          "name": "stdout",
          "text": [
            "(776, 27)\n"
          ]
        }
      ]
    },
    {
      "cell_type": "code",
      "source": [
        "print(input_df.isna().sum())"
      ],
      "metadata": {
        "colab": {
          "base_uri": "https://localhost:8080/"
        },
        "id": "pfB9J1lkV5W4",
        "outputId": "02bd5ce8-a820-4b72-f256-ad642315ab34"
      },
      "execution_count": 4,
      "outputs": [
        {
          "output_type": "stream",
          "name": "stdout",
          "text": [
            "Sector_score      0\n",
            "LOCATION_ID       0\n",
            "PARA_A            0\n",
            "Score_A           0\n",
            "Risk_A            0\n",
            "PARA_B            0\n",
            "Score_B           0\n",
            "Risk_B            0\n",
            "TOTAL             0\n",
            "numbers           0\n",
            "Score_B.1         0\n",
            "Risk_C            0\n",
            "Money_Value       1\n",
            "Score_MV          0\n",
            "Risk_D            0\n",
            "District_Loss     0\n",
            "PROB              0\n",
            "RiSk_E            0\n",
            "History           0\n",
            "Prob              0\n",
            "Risk_F            0\n",
            "Score             0\n",
            "Inherent_Risk     0\n",
            "CONTROL_RISK      0\n",
            "Detection_Risk    0\n",
            "Audit_Risk        0\n",
            "Risk              0\n",
            "dtype: int64\n"
          ]
        }
      ]
    },
    {
      "cell_type": "code",
      "source": [
        "print(input_df.duplicated().any())"
      ],
      "metadata": {
        "colab": {
          "base_uri": "https://localhost:8080/"
        },
        "id": "3d553IUAV8Ez",
        "outputId": "5e0ddf5a-8631-4eb7-8c73-727875f458bf"
      },
      "execution_count": 6,
      "outputs": [
        {
          "output_type": "stream",
          "name": "stdout",
          "text": [
            "True\n"
          ]
        }
      ]
    },
    {
      "cell_type": "code",
      "source": [
        "print(input_df.drop_duplicates(inplace=True))"
      ],
      "metadata": {
        "colab": {
          "base_uri": "https://localhost:8080/"
        },
        "id": "tmrHZsGSV-ba",
        "outputId": "d0f37d2f-121c-4ca1-a8d3-9c99e077d8ec"
      },
      "execution_count": 7,
      "outputs": [
        {
          "output_type": "stream",
          "name": "stdout",
          "text": [
            "None\n"
          ]
        }
      ]
    },
    {
      "cell_type": "code",
      "source": [
        "input_df.loc[input_df['LOCATION_ID']=='LOHARU','LOCATION_ID']=45\n",
        "input_df.loc[input_df['LOCATION_ID']=='NUH','LOCATION_ID']=46\n",
        "input_df.loc[input_df['LOCATION_ID']=='SAFIDON','LOCATION_ID']=47"
      ],
      "metadata": {
        "id": "qVpQloPNWBFl"
      },
      "execution_count": 8,
      "outputs": []
    },
    {
      "cell_type": "code",
      "source": [
        "input_df['LOCATION_ID']=input_df['LOCATION_ID'].astype(str)\n",
        "input_df['LOCATION_ID']=input_df['LOCATION_ID'].astype(int)"
      ],
      "metadata": {
        "id": "Je_n8K9RWC0r"
      },
      "execution_count": 9,
      "outputs": []
    },
    {
      "cell_type": "code",
      "source": [
        "input_df['Money_Value'].fillna((input_df['Money_Value'].mean()),inplace=True)\n",
        "#total is just thee total of para_A and para_b\n",
        "#since the detection_risk has no co relation value we are dropping it.\n",
        "input_df.drop(columns=['TOTAL','Detection_Risk'],inplace=True)\n",
        "X=input_df.drop(columns='Risk')\n",
        "y=input_df['Risk']"
      ],
      "metadata": {
        "id": "wQDfguU5WEdD"
      },
      "execution_count": 10,
      "outputs": []
    },
    {
      "cell_type": "code",
      "source": [
        "sc=StandardScaler()\n",
        "X1=sc.fit_transform(X)\n",
        "X1_new=pd.DataFrame(X1)"
      ],
      "metadata": {
        "id": "ET8lxMsPWH-g"
      },
      "execution_count": 11,
      "outputs": []
    },
    {
      "cell_type": "code",
      "source": [
        "#splitting train and text data\n",
        "xtrain,xtest,ytrain,ytest=train_test_split(X1_new,y)"
      ],
      "metadata": {
        "id": "z5G3QjgSWK5m"
      },
      "execution_count": 12,
      "outputs": []
    },
    {
      "cell_type": "code",
      "source": [
        "#prediction for train data using decision tree\n",
        "ypred6=model2.predict(xtrain)\n",
        "np.mean(ytrain==ypred6)\n"
      ],
      "metadata": {
        "colab": {
          "base_uri": "https://localhost:8080/"
        },
        "id": "poH_DgkPXi77",
        "outputId": "f22627dd-2bad-4ce0-8b4f-265ae4ca7f5e"
      },
      "execution_count": 26,
      "outputs": [
        {
          "output_type": "execute_result",
          "data": {
            "text/plain": [
              "0.965034965034965"
            ]
          },
          "metadata": {},
          "execution_count": 26
        }
      ]
    },
    {
      "cell_type": "code",
      "source": [
        "#confusion matrix from KNN test data\n",
        "confusion_matrix(ytest,ypred3)"
      ],
      "metadata": {
        "colab": {
          "base_uri": "https://localhost:8080/"
        },
        "id": "VfdaUTf5XogJ",
        "outputId": "44439482-2884-40a6-d2ec-29810aba1e17"
      },
      "execution_count": 27,
      "outputs": [
        {
          "output_type": "execute_result",
          "data": {
            "text/plain": [
              "array([[109,   3],\n",
              "       [  3,  76]])"
            ]
          },
          "metadata": {},
          "execution_count": 27
        }
      ]
    },
    {
      "cell_type": "code",
      "source": [
        "ypred6=model2.predict(xtrain)\n",
        "np.mean(ytrain==ypred6)"
      ],
      "metadata": {
        "colab": {
          "base_uri": "https://localhost:8080/"
        },
        "id": "e3WC3w2SXvwq",
        "outputId": "99687367-9cfa-425a-8ce0-70f3e2ae0162"
      },
      "execution_count": 28,
      "outputs": [
        {
          "output_type": "execute_result",
          "data": {
            "text/plain": [
              "0.965034965034965"
            ]
          },
          "metadata": {},
          "execution_count": 28
        }
      ]
    },
    {
      "cell_type": "code",
      "source": [],
      "metadata": {
        "id": "rvl-8gSuaYKg"
      },
      "execution_count": null,
      "outputs": []
    },
    {
      "cell_type": "code",
      "source": [
        "#model evaluation\n",
        "acc_rf=accuracy_score(ytest,ypred7)\n",
        "prec_rf=precision_score(ytest,ypred7)\n",
        "rec_rf=recall_score(ytest,ypred7)\n",
        "f1_rf=f1_score(ytest,ypred7)\n",
        "roc_rf=roc_auc_score(ytest,ypred7)\n",
        "results_rf= pd.DataFrame([['Random forest',acc_rf, acc_rf.mean(),prec_rf,rec_rf, f1_rf,roc_rf]],\n",
        "               columns = ['Model', 'Accuracy','Cross Val Accuracy', 'Precision', 'Recall', 'F1 Score','ROC'])\n",
        "results=results.append(results_rf,ignore_index=True)\n",
        "results"
      ],
      "metadata": {
        "colab": {
          "base_uri": "https://localhost:8080/",
          "height": 175
        },
        "id": "QpInFQDtYEL_",
        "outputId": "1a2e8f78-1512-47de-dd1f-94e7719d4dc6"
      },
      "execution_count": 39,
      "outputs": [
        {
          "output_type": "execute_result",
          "data": {
            "text/plain": [
              "                 Model  Accuracy  Cross Val Accuracy  Precision    Recall  \\\n",
              "0  Logistic Regression  0.973822            0.982547   0.940476  1.000000   \n",
              "1                  KNN  0.968586            0.968586   0.962025  0.962025   \n",
              "2        Random forest  1.000000            1.000000   1.000000  1.000000   \n",
              "3        Random forest  1.000000            1.000000   1.000000  1.000000   \n",
              "\n",
              "   F1 Score       ROC  \n",
              "0  0.969325  0.977679  \n",
              "1  0.962025  0.967620  \n",
              "2  1.000000  1.000000  \n",
              "3  1.000000  1.000000  "
            ],
            "text/html": [
              "\n",
              "  <div id=\"df-653822b0-fd2b-42e1-a28b-037cc554c3a2\">\n",
              "    <div class=\"colab-df-container\">\n",
              "      <div>\n",
              "<style scoped>\n",
              "    .dataframe tbody tr th:only-of-type {\n",
              "        vertical-align: middle;\n",
              "    }\n",
              "\n",
              "    .dataframe tbody tr th {\n",
              "        vertical-align: top;\n",
              "    }\n",
              "\n",
              "    .dataframe thead th {\n",
              "        text-align: right;\n",
              "    }\n",
              "</style>\n",
              "<table border=\"1\" class=\"dataframe\">\n",
              "  <thead>\n",
              "    <tr style=\"text-align: right;\">\n",
              "      <th></th>\n",
              "      <th>Model</th>\n",
              "      <th>Accuracy</th>\n",
              "      <th>Cross Val Accuracy</th>\n",
              "      <th>Precision</th>\n",
              "      <th>Recall</th>\n",
              "      <th>F1 Score</th>\n",
              "      <th>ROC</th>\n",
              "    </tr>\n",
              "  </thead>\n",
              "  <tbody>\n",
              "    <tr>\n",
              "      <th>0</th>\n",
              "      <td>Logistic Regression</td>\n",
              "      <td>0.973822</td>\n",
              "      <td>0.982547</td>\n",
              "      <td>0.940476</td>\n",
              "      <td>1.000000</td>\n",
              "      <td>0.969325</td>\n",
              "      <td>0.977679</td>\n",
              "    </tr>\n",
              "    <tr>\n",
              "      <th>1</th>\n",
              "      <td>KNN</td>\n",
              "      <td>0.968586</td>\n",
              "      <td>0.968586</td>\n",
              "      <td>0.962025</td>\n",
              "      <td>0.962025</td>\n",
              "      <td>0.962025</td>\n",
              "      <td>0.967620</td>\n",
              "    </tr>\n",
              "    <tr>\n",
              "      <th>2</th>\n",
              "      <td>Random forest</td>\n",
              "      <td>1.000000</td>\n",
              "      <td>1.000000</td>\n",
              "      <td>1.000000</td>\n",
              "      <td>1.000000</td>\n",
              "      <td>1.000000</td>\n",
              "      <td>1.000000</td>\n",
              "    </tr>\n",
              "    <tr>\n",
              "      <th>3</th>\n",
              "      <td>Random forest</td>\n",
              "      <td>1.000000</td>\n",
              "      <td>1.000000</td>\n",
              "      <td>1.000000</td>\n",
              "      <td>1.000000</td>\n",
              "      <td>1.000000</td>\n",
              "      <td>1.000000</td>\n",
              "    </tr>\n",
              "  </tbody>\n",
              "</table>\n",
              "</div>\n",
              "      <button class=\"colab-df-convert\" onclick=\"convertToInteractive('df-653822b0-fd2b-42e1-a28b-037cc554c3a2')\"\n",
              "              title=\"Convert this dataframe to an interactive table.\"\n",
              "              style=\"display:none;\">\n",
              "        \n",
              "  <svg xmlns=\"http://www.w3.org/2000/svg\" height=\"24px\"viewBox=\"0 0 24 24\"\n",
              "       width=\"24px\">\n",
              "    <path d=\"M0 0h24v24H0V0z\" fill=\"none\"/>\n",
              "    <path d=\"M18.56 5.44l.94 2.06.94-2.06 2.06-.94-2.06-.94-.94-2.06-.94 2.06-2.06.94zm-11 1L8.5 8.5l.94-2.06 2.06-.94-2.06-.94L8.5 2.5l-.94 2.06-2.06.94zm10 10l.94 2.06.94-2.06 2.06-.94-2.06-.94-.94-2.06-.94 2.06-2.06.94z\"/><path d=\"M17.41 7.96l-1.37-1.37c-.4-.4-.92-.59-1.43-.59-.52 0-1.04.2-1.43.59L10.3 9.45l-7.72 7.72c-.78.78-.78 2.05 0 2.83L4 21.41c.39.39.9.59 1.41.59.51 0 1.02-.2 1.41-.59l7.78-7.78 2.81-2.81c.8-.78.8-2.07 0-2.86zM5.41 20L4 18.59l7.72-7.72 1.47 1.35L5.41 20z\"/>\n",
              "  </svg>\n",
              "      </button>\n",
              "      \n",
              "  <style>\n",
              "    .colab-df-container {\n",
              "      display:flex;\n",
              "      flex-wrap:wrap;\n",
              "      gap: 12px;\n",
              "    }\n",
              "\n",
              "    .colab-df-convert {\n",
              "      background-color: #E8F0FE;\n",
              "      border: none;\n",
              "      border-radius: 50%;\n",
              "      cursor: pointer;\n",
              "      display: none;\n",
              "      fill: #1967D2;\n",
              "      height: 32px;\n",
              "      padding: 0 0 0 0;\n",
              "      width: 32px;\n",
              "    }\n",
              "\n",
              "    .colab-df-convert:hover {\n",
              "      background-color: #E2EBFA;\n",
              "      box-shadow: 0px 1px 2px rgba(60, 64, 67, 0.3), 0px 1px 3px 1px rgba(60, 64, 67, 0.15);\n",
              "      fill: #174EA6;\n",
              "    }\n",
              "\n",
              "    [theme=dark] .colab-df-convert {\n",
              "      background-color: #3B4455;\n",
              "      fill: #D2E3FC;\n",
              "    }\n",
              "\n",
              "    [theme=dark] .colab-df-convert:hover {\n",
              "      background-color: #434B5C;\n",
              "      box-shadow: 0px 1px 3px 1px rgba(0, 0, 0, 0.15);\n",
              "      filter: drop-shadow(0px 1px 2px rgba(0, 0, 0, 0.3));\n",
              "      fill: #FFFFFF;\n",
              "    }\n",
              "  </style>\n",
              "\n",
              "      <script>\n",
              "        const buttonEl =\n",
              "          document.querySelector('#df-653822b0-fd2b-42e1-a28b-037cc554c3a2 button.colab-df-convert');\n",
              "        buttonEl.style.display =\n",
              "          google.colab.kernel.accessAllowed ? 'block' : 'none';\n",
              "\n",
              "        async function convertToInteractive(key) {\n",
              "          const element = document.querySelector('#df-653822b0-fd2b-42e1-a28b-037cc554c3a2');\n",
              "          const dataTable =\n",
              "            await google.colab.kernel.invokeFunction('convertToInteractive',\n",
              "                                                     [key], {});\n",
              "          if (!dataTable) return;\n",
              "\n",
              "          const docLinkHtml = 'Like what you see? Visit the ' +\n",
              "            '<a target=\"_blank\" href=https://colab.research.google.com/notebooks/data_table.ipynb>data table notebook</a>'\n",
              "            + ' to learn more about interactive tables.';\n",
              "          element.innerHTML = '';\n",
              "          dataTable['output_type'] = 'display_data';\n",
              "          await google.colab.output.renderOutput(dataTable, element);\n",
              "          const docLink = document.createElement('div');\n",
              "          docLink.innerHTML = docLinkHtml;\n",
              "          element.appendChild(docLink);\n",
              "        }\n",
              "      </script>\n",
              "    </div>\n",
              "  </div>\n",
              "  "
            ]
          },
          "metadata": {},
          "execution_count": 39
        }
      ]
    },
    {
      "cell_type": "code",
      "source": [
        "#predict train data using randomforest\n",
        "ypred8=model4.predict(xtrain)\n",
        "accuracy_score(ytrain,ypred8)"
      ],
      "metadata": {
        "colab": {
          "base_uri": "https://localhost:8080/"
        },
        "id": "0kmzIYWCYHv1",
        "outputId": "7626f33d-971f-41ef-8e7a-65029736ceff"
      },
      "execution_count": 40,
      "outputs": [
        {
          "output_type": "execute_result",
          "data": {
            "text/plain": [
              "1.0"
            ]
          },
          "metadata": {},
          "execution_count": 40
        }
      ]
    },
    {
      "cell_type": "code",
      "source": [
        "#confusion matrix from randomforest test data\n",
        "confusion_matrix(ytest,ypred7)"
      ],
      "metadata": {
        "colab": {
          "base_uri": "https://localhost:8080/"
        },
        "id": "jG9Ll9Dhad6-",
        "outputId": "c06bd062-5635-4375-e053-74e3a6e691db"
      },
      "execution_count": 44,
      "outputs": [
        {
          "output_type": "execute_result",
          "data": {
            "text/plain": [
              "array([[112,   0],\n",
              "       [  0,  79]])"
            ]
          },
          "metadata": {},
          "execution_count": 44
        }
      ]
    },
    {
      "cell_type": "code",
      "source": [
        "#confusion matrix from randomforest train data\n",
        "confusion_matrix(ytrain,ypred8)"
      ],
      "metadata": {
        "colab": {
          "base_uri": "https://localhost:8080/"
        },
        "id": "md2CZAJ8YLcX",
        "outputId": "92f1b4e6-0db0-4e27-92d8-9924e29010dd"
      },
      "execution_count": 45,
      "outputs": [
        {
          "output_type": "execute_result",
          "data": {
            "text/plain": [
              "array([[347,   0],\n",
              "       [  0, 225]])"
            ]
          },
          "metadata": {},
          "execution_count": 45
        }
      ]
    },
    {
      "cell_type": "code",
      "source": [
        "#implimenting random forest\n",
        "from sklearn.ensemble import RandomForestClassifier\n",
        "rf=RandomForestClassifier(n_estimators=100,criterion='gini')\n",
        "model4=rf.fit(xtrain,ytrain)\n",
        "ypred7=model4.predict(xtest)"
      ],
      "metadata": {
        "id": "srpQmGzHXyZa"
      },
      "execution_count": 42,
      "outputs": []
    },
    {
      "cell_type": "code",
      "source": [
        "#impliment logistic regression\n",
        "from sklearn.linear_model import LogisticRegression\n",
        "lg=LogisticRegression()\n",
        "model1=lg.fit(xtrain,ytrain)\n",
        "ypred1=model1.predict(xtest)"
      ],
      "metadata": {
        "id": "X4dmt8A9WNJU"
      },
      "execution_count": 32,
      "outputs": []
    },
    {
      "cell_type": "code",
      "source": [
        "#cross validation\n",
        "kfold = model_selection.KFold(n_splits=10, random_state=None)\n",
        "scoring = 'accuracy'\n",
        "\n",
        "acc_rf = cross_val_score(estimator = rf, X = xtrain, y = ytrain, cv = kfold,scoring=scoring)\n",
        "acc_rf.mean()"
      ],
      "metadata": {
        "colab": {
          "base_uri": "https://localhost:8080/"
        },
        "id": "_kTetBZsX99v",
        "outputId": "d0c7578f-3593-4b5b-ed25-c8e671404970"
      },
      "execution_count": 35,
      "outputs": [
        {
          "output_type": "execute_result",
          "data": {
            "text/plain": [
              "0.9982456140350877"
            ]
          },
          "metadata": {},
          "execution_count": 35
        }
      ]
    },
    {
      "cell_type": "code",
      "source": [
        "#cross validation\n",
        "kfold = model_selection.KFold(n_splits=10, random_state='default')\n",
        "scoring = 'accuracy'\n",
        "acc_logi = cross_val_score(estimator = lg, X = xtrain, y = ytrain, cv = kfold,scoring=scoring)\n",
        "acc_logi.mean()"
      ],
      "metadata": {
        "colab": {
          "base_uri": "https://localhost:8080/"
        },
        "id": "Riq24-DNWOvN",
        "outputId": "d6344613-47a4-4d51-d347-7c857496984d"
      },
      "execution_count": 18,
      "outputs": [
        {
          "output_type": "execute_result",
          "data": {
            "text/plain": [
              "0.9825468844525105"
            ]
          },
          "metadata": {},
          "execution_count": 18
        }
      ]
    },
    {
      "cell_type": "code",
      "source": [
        "#model evaluation\n",
        "acc=accuracy_score(ytest,ypred1)\n",
        "prec=precision_score(ytest,ypred1)\n",
        "rec=recall_score(ytest,ypred1)\n",
        "f1=f1_score(ytest,ypred1)\n",
        "roc=roc_auc_score(ytest,ypred1)\n",
        "results= pd.DataFrame([['Logistic Regression',acc, acc_logi.mean(),prec,rec, f1,roc]],\n",
        "               columns = ['Model', 'Accuracy','Cross Val Accuracy', 'Precision', 'Recall', 'F1 Score','ROC'])\n",
        "results"
      ],
      "metadata": {
        "colab": {
          "base_uri": "https://localhost:8080/",
          "height": 81
        },
        "id": "v7xY99kDWRMO",
        "outputId": "a2d710e7-50e4-440d-bc4b-cacf4ff88838"
      },
      "execution_count": 19,
      "outputs": [
        {
          "output_type": "execute_result",
          "data": {
            "text/plain": [
              "                 Model  Accuracy  Cross Val Accuracy  Precision  Recall  \\\n",
              "0  Logistic Regression  0.973822            0.982547   0.940476     1.0   \n",
              "\n",
              "   F1 Score       ROC  \n",
              "0  0.969325  0.977679  "
            ],
            "text/html": [
              "\n",
              "  <div id=\"df-7f49e549-9570-46eb-8e60-814230b440b3\">\n",
              "    <div class=\"colab-df-container\">\n",
              "      <div>\n",
              "<style scoped>\n",
              "    .dataframe tbody tr th:only-of-type {\n",
              "        vertical-align: middle;\n",
              "    }\n",
              "\n",
              "    .dataframe tbody tr th {\n",
              "        vertical-align: top;\n",
              "    }\n",
              "\n",
              "    .dataframe thead th {\n",
              "        text-align: right;\n",
              "    }\n",
              "</style>\n",
              "<table border=\"1\" class=\"dataframe\">\n",
              "  <thead>\n",
              "    <tr style=\"text-align: right;\">\n",
              "      <th></th>\n",
              "      <th>Model</th>\n",
              "      <th>Accuracy</th>\n",
              "      <th>Cross Val Accuracy</th>\n",
              "      <th>Precision</th>\n",
              "      <th>Recall</th>\n",
              "      <th>F1 Score</th>\n",
              "      <th>ROC</th>\n",
              "    </tr>\n",
              "  </thead>\n",
              "  <tbody>\n",
              "    <tr>\n",
              "      <th>0</th>\n",
              "      <td>Logistic Regression</td>\n",
              "      <td>0.973822</td>\n",
              "      <td>0.982547</td>\n",
              "      <td>0.940476</td>\n",
              "      <td>1.0</td>\n",
              "      <td>0.969325</td>\n",
              "      <td>0.977679</td>\n",
              "    </tr>\n",
              "  </tbody>\n",
              "</table>\n",
              "</div>\n",
              "      <button class=\"colab-df-convert\" onclick=\"convertToInteractive('df-7f49e549-9570-46eb-8e60-814230b440b3')\"\n",
              "              title=\"Convert this dataframe to an interactive table.\"\n",
              "              style=\"display:none;\">\n",
              "        \n",
              "  <svg xmlns=\"http://www.w3.org/2000/svg\" height=\"24px\"viewBox=\"0 0 24 24\"\n",
              "       width=\"24px\">\n",
              "    <path d=\"M0 0h24v24H0V0z\" fill=\"none\"/>\n",
              "    <path d=\"M18.56 5.44l.94 2.06.94-2.06 2.06-.94-2.06-.94-.94-2.06-.94 2.06-2.06.94zm-11 1L8.5 8.5l.94-2.06 2.06-.94-2.06-.94L8.5 2.5l-.94 2.06-2.06.94zm10 10l.94 2.06.94-2.06 2.06-.94-2.06-.94-.94-2.06-.94 2.06-2.06.94z\"/><path d=\"M17.41 7.96l-1.37-1.37c-.4-.4-.92-.59-1.43-.59-.52 0-1.04.2-1.43.59L10.3 9.45l-7.72 7.72c-.78.78-.78 2.05 0 2.83L4 21.41c.39.39.9.59 1.41.59.51 0 1.02-.2 1.41-.59l7.78-7.78 2.81-2.81c.8-.78.8-2.07 0-2.86zM5.41 20L4 18.59l7.72-7.72 1.47 1.35L5.41 20z\"/>\n",
              "  </svg>\n",
              "      </button>\n",
              "      \n",
              "  <style>\n",
              "    .colab-df-container {\n",
              "      display:flex;\n",
              "      flex-wrap:wrap;\n",
              "      gap: 12px;\n",
              "    }\n",
              "\n",
              "    .colab-df-convert {\n",
              "      background-color: #E8F0FE;\n",
              "      border: none;\n",
              "      border-radius: 50%;\n",
              "      cursor: pointer;\n",
              "      display: none;\n",
              "      fill: #1967D2;\n",
              "      height: 32px;\n",
              "      padding: 0 0 0 0;\n",
              "      width: 32px;\n",
              "    }\n",
              "\n",
              "    .colab-df-convert:hover {\n",
              "      background-color: #E2EBFA;\n",
              "      box-shadow: 0px 1px 2px rgba(60, 64, 67, 0.3), 0px 1px 3px 1px rgba(60, 64, 67, 0.15);\n",
              "      fill: #174EA6;\n",
              "    }\n",
              "\n",
              "    [theme=dark] .colab-df-convert {\n",
              "      background-color: #3B4455;\n",
              "      fill: #D2E3FC;\n",
              "    }\n",
              "\n",
              "    [theme=dark] .colab-df-convert:hover {\n",
              "      background-color: #434B5C;\n",
              "      box-shadow: 0px 1px 3px 1px rgba(0, 0, 0, 0.15);\n",
              "      filter: drop-shadow(0px 1px 2px rgba(0, 0, 0, 0.3));\n",
              "      fill: #FFFFFF;\n",
              "    }\n",
              "  </style>\n",
              "\n",
              "      <script>\n",
              "        const buttonEl =\n",
              "          document.querySelector('#df-7f49e549-9570-46eb-8e60-814230b440b3 button.colab-df-convert');\n",
              "        buttonEl.style.display =\n",
              "          google.colab.kernel.accessAllowed ? 'block' : 'none';\n",
              "\n",
              "        async function convertToInteractive(key) {\n",
              "          const element = document.querySelector('#df-7f49e549-9570-46eb-8e60-814230b440b3');\n",
              "          const dataTable =\n",
              "            await google.colab.kernel.invokeFunction('convertToInteractive',\n",
              "                                                     [key], {});\n",
              "          if (!dataTable) return;\n",
              "\n",
              "          const docLinkHtml = 'Like what you see? Visit the ' +\n",
              "            '<a target=\"_blank\" href=https://colab.research.google.com/notebooks/data_table.ipynb>data table notebook</a>'\n",
              "            + ' to learn more about interactive tables.';\n",
              "          element.innerHTML = '';\n",
              "          dataTable['output_type'] = 'display_data';\n",
              "          await google.colab.output.renderOutput(dataTable, element);\n",
              "          const docLink = document.createElement('div');\n",
              "          docLink.innerHTML = docLinkHtml;\n",
              "          element.appendChild(docLink);\n",
              "        }\n",
              "      </script>\n",
              "    </div>\n",
              "  </div>\n",
              "  "
            ]
          },
          "metadata": {},
          "execution_count": 19
        }
      ]
    },
    {
      "cell_type": "code",
      "source": [
        "#prediction for train data using logistic regression\n",
        "ypred2=model1.predict(xtrain)\n",
        "np.mean(ytrain==ypred2)"
      ],
      "metadata": {
        "colab": {
          "base_uri": "https://localhost:8080/"
        },
        "id": "ETx8pWWyWoiU",
        "outputId": "9366e547-f51a-4f0e-a65a-31c327ec2efd"
      },
      "execution_count": 20,
      "outputs": [
        {
          "output_type": "execute_result",
          "data": {
            "text/plain": [
              "0.9877622377622378"
            ]
          },
          "metadata": {},
          "execution_count": 20
        }
      ]
    },
    {
      "cell_type": "code",
      "source": [
        "#confusion matrix from Logistic regression train data\n",
        "confusion_matrix(ytrain,ypred2)"
      ],
      "metadata": {
        "colab": {
          "base_uri": "https://localhost:8080/"
        },
        "id": "L1GGcfgoWqt_",
        "outputId": "fea87bbc-80f3-4e35-a146-96a622a5fba2"
      },
      "execution_count": 21,
      "outputs": [
        {
          "output_type": "execute_result",
          "data": {
            "text/plain": [
              "array([[347,   0],\n",
              "       [  7, 218]])"
            ]
          },
          "metadata": {},
          "execution_count": 21
        }
      ]
    },
    {
      "cell_type": "code",
      "source": [
        "#implimenting knn \n",
        "from sklearn.neighbors import KNeighborsClassifier\n",
        "knn=KNeighborsClassifier()\n",
        "model2=knn.fit(xtrain,ytrain)\n",
        "ypred3=model2.predict(xtest)"
      ],
      "metadata": {
        "id": "Ty4jSF8zWtSs"
      },
      "execution_count": 22,
      "outputs": []
    },
    {
      "cell_type": "code",
      "source": [
        "#cross validation\n",
        "kfold = model_selection.KFold(n_splits=10, random_state=None)\n",
        "scoring = 'accuracy'\n",
        "\n",
        "acc_knn = cross_val_score(estimator = knn, X = xtrain, y = ytrain, cv = kfold,scoring=scoring)\n",
        "acc_knn.mean()"
      ],
      "metadata": {
        "colab": {
          "base_uri": "https://localhost:8080/"
        },
        "id": "WkY1QleBWvBk",
        "outputId": "3b96b578-5005-4183-8fc8-33f19466822e"
      },
      "execution_count": 24,
      "outputs": [
        {
          "output_type": "execute_result",
          "data": {
            "text/plain": [
              "0.9580459770114942"
            ]
          },
          "metadata": {},
          "execution_count": 24
        }
      ]
    },
    {
      "cell_type": "code",
      "source": [
        "acc_knn=accuracy_score(ytest,ypred3)\n",
        "prec_knn=precision_score(ytest,ypred3)\n",
        "rec_knn=recall_score(ytest,ypred3)\n",
        "f1_knn=f1_score(ytest,ypred3)\n",
        "roc_knn=roc_auc_score(ytest,ypred3)\n",
        "results_knn= pd.DataFrame([['KNN',acc_knn, acc_knn.mean(),prec_knn,rec_knn, f1_knn,roc_knn]],\n",
        "               columns = ['Model', 'Accuracy','Cross Val Accuracy', 'Precision', 'Recall', 'F1 Score','ROC'])\n",
        "results=results.append(results_knn,ignore_index=True)\n",
        "results"
      ],
      "metadata": {
        "colab": {
          "base_uri": "https://localhost:8080/",
          "height": 112
        },
        "id": "CEbFeXkAWw3i",
        "outputId": "1ded1c7c-c2ef-4e62-a09b-5ab705c25ea0"
      },
      "execution_count": 25,
      "outputs": [
        {
          "output_type": "execute_result",
          "data": {
            "text/plain": [
              "                 Model  Accuracy  Cross Val Accuracy  Precision    Recall  \\\n",
              "0  Logistic Regression  0.973822            0.982547   0.940476  1.000000   \n",
              "1                  KNN  0.968586            0.968586   0.962025  0.962025   \n",
              "\n",
              "   F1 Score       ROC  \n",
              "0  0.969325  0.977679  \n",
              "1  0.962025  0.967620  "
            ],
            "text/html": [
              "\n",
              "  <div id=\"df-c883edd2-f95e-451b-b01c-1c225fe9de47\">\n",
              "    <div class=\"colab-df-container\">\n",
              "      <div>\n",
              "<style scoped>\n",
              "    .dataframe tbody tr th:only-of-type {\n",
              "        vertical-align: middle;\n",
              "    }\n",
              "\n",
              "    .dataframe tbody tr th {\n",
              "        vertical-align: top;\n",
              "    }\n",
              "\n",
              "    .dataframe thead th {\n",
              "        text-align: right;\n",
              "    }\n",
              "</style>\n",
              "<table border=\"1\" class=\"dataframe\">\n",
              "  <thead>\n",
              "    <tr style=\"text-align: right;\">\n",
              "      <th></th>\n",
              "      <th>Model</th>\n",
              "      <th>Accuracy</th>\n",
              "      <th>Cross Val Accuracy</th>\n",
              "      <th>Precision</th>\n",
              "      <th>Recall</th>\n",
              "      <th>F1 Score</th>\n",
              "      <th>ROC</th>\n",
              "    </tr>\n",
              "  </thead>\n",
              "  <tbody>\n",
              "    <tr>\n",
              "      <th>0</th>\n",
              "      <td>Logistic Regression</td>\n",
              "      <td>0.973822</td>\n",
              "      <td>0.982547</td>\n",
              "      <td>0.940476</td>\n",
              "      <td>1.000000</td>\n",
              "      <td>0.969325</td>\n",
              "      <td>0.977679</td>\n",
              "    </tr>\n",
              "    <tr>\n",
              "      <th>1</th>\n",
              "      <td>KNN</td>\n",
              "      <td>0.968586</td>\n",
              "      <td>0.968586</td>\n",
              "      <td>0.962025</td>\n",
              "      <td>0.962025</td>\n",
              "      <td>0.962025</td>\n",
              "      <td>0.967620</td>\n",
              "    </tr>\n",
              "  </tbody>\n",
              "</table>\n",
              "</div>\n",
              "      <button class=\"colab-df-convert\" onclick=\"convertToInteractive('df-c883edd2-f95e-451b-b01c-1c225fe9de47')\"\n",
              "              title=\"Convert this dataframe to an interactive table.\"\n",
              "              style=\"display:none;\">\n",
              "        \n",
              "  <svg xmlns=\"http://www.w3.org/2000/svg\" height=\"24px\"viewBox=\"0 0 24 24\"\n",
              "       width=\"24px\">\n",
              "    <path d=\"M0 0h24v24H0V0z\" fill=\"none\"/>\n",
              "    <path d=\"M18.56 5.44l.94 2.06.94-2.06 2.06-.94-2.06-.94-.94-2.06-.94 2.06-2.06.94zm-11 1L8.5 8.5l.94-2.06 2.06-.94-2.06-.94L8.5 2.5l-.94 2.06-2.06.94zm10 10l.94 2.06.94-2.06 2.06-.94-2.06-.94-.94-2.06-.94 2.06-2.06.94z\"/><path d=\"M17.41 7.96l-1.37-1.37c-.4-.4-.92-.59-1.43-.59-.52 0-1.04.2-1.43.59L10.3 9.45l-7.72 7.72c-.78.78-.78 2.05 0 2.83L4 21.41c.39.39.9.59 1.41.59.51 0 1.02-.2 1.41-.59l7.78-7.78 2.81-2.81c.8-.78.8-2.07 0-2.86zM5.41 20L4 18.59l7.72-7.72 1.47 1.35L5.41 20z\"/>\n",
              "  </svg>\n",
              "      </button>\n",
              "      \n",
              "  <style>\n",
              "    .colab-df-container {\n",
              "      display:flex;\n",
              "      flex-wrap:wrap;\n",
              "      gap: 12px;\n",
              "    }\n",
              "\n",
              "    .colab-df-convert {\n",
              "      background-color: #E8F0FE;\n",
              "      border: none;\n",
              "      border-radius: 50%;\n",
              "      cursor: pointer;\n",
              "      display: none;\n",
              "      fill: #1967D2;\n",
              "      height: 32px;\n",
              "      padding: 0 0 0 0;\n",
              "      width: 32px;\n",
              "    }\n",
              "\n",
              "    .colab-df-convert:hover {\n",
              "      background-color: #E2EBFA;\n",
              "      box-shadow: 0px 1px 2px rgba(60, 64, 67, 0.3), 0px 1px 3px 1px rgba(60, 64, 67, 0.15);\n",
              "      fill: #174EA6;\n",
              "    }\n",
              "\n",
              "    [theme=dark] .colab-df-convert {\n",
              "      background-color: #3B4455;\n",
              "      fill: #D2E3FC;\n",
              "    }\n",
              "\n",
              "    [theme=dark] .colab-df-convert:hover {\n",
              "      background-color: #434B5C;\n",
              "      box-shadow: 0px 1px 3px 1px rgba(0, 0, 0, 0.15);\n",
              "      filter: drop-shadow(0px 1px 2px rgba(0, 0, 0, 0.3));\n",
              "      fill: #FFFFFF;\n",
              "    }\n",
              "  </style>\n",
              "\n",
              "      <script>\n",
              "        const buttonEl =\n",
              "          document.querySelector('#df-c883edd2-f95e-451b-b01c-1c225fe9de47 button.colab-df-convert');\n",
              "        buttonEl.style.display =\n",
              "          google.colab.kernel.accessAllowed ? 'block' : 'none';\n",
              "\n",
              "        async function convertToInteractive(key) {\n",
              "          const element = document.querySelector('#df-c883edd2-f95e-451b-b01c-1c225fe9de47');\n",
              "          const dataTable =\n",
              "            await google.colab.kernel.invokeFunction('convertToInteractive',\n",
              "                                                     [key], {});\n",
              "          if (!dataTable) return;\n",
              "\n",
              "          const docLinkHtml = 'Like what you see? Visit the ' +\n",
              "            '<a target=\"_blank\" href=https://colab.research.google.com/notebooks/data_table.ipynb>data table notebook</a>'\n",
              "            + ' to learn more about interactive tables.';\n",
              "          element.innerHTML = '';\n",
              "          dataTable['output_type'] = 'display_data';\n",
              "          await google.colab.output.renderOutput(dataTable, element);\n",
              "          const docLink = document.createElement('div');\n",
              "          docLink.innerHTML = docLinkHtml;\n",
              "          element.appendChild(docLink);\n",
              "        }\n",
              "      </script>\n",
              "    </div>\n",
              "  </div>\n",
              "  "
            ]
          },
          "metadata": {},
          "execution_count": 25
        }
      ]
    },
    {
      "cell_type": "code",
      "source": [],
      "metadata": {
        "id": "q6yJ5w3zW0g0"
      },
      "execution_count": null,
      "outputs": []
    }
  ]
}